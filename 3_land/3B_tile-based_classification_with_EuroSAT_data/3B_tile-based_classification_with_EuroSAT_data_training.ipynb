{
 "cells": [
  {
   "cell_type": "markdown",
   "metadata": {},
   "source": [
    "<center><img src='../../img/ai4eo_logos.jpg' alt='Logos AI4EO MOOC' width='80%'></img></center>"
   ]
  },
  {
   "cell_type": "markdown",
   "metadata": {},
   "source": [
    "<hr>"
   ]
  },
  {
   "cell_type": "markdown",
   "metadata": {},
   "source": [
    "<br>"
   ]
  },
  {
   "cell_type": "markdown",
   "metadata": {},
   "source": [
    "<a href='https://www.futurelearn.com/courses/artificial-intelligence-for-earth-monitoring/1/steps/1280514' target='_blank'><< Back to FutureLearn</a><br>"
   ]
  },
  {
   "cell_type": "markdown",
   "metadata": {},
   "source": [
    "# Tile-based classification using Sentinel-2 L1C and EuroSAT data - Training"
   ]
  },
  {
   "cell_type": "markdown",
   "metadata": {},
   "source": [
    "<i>by Nicolò Taggio, Planetek Italia S.r.l., Bari, Italy</i>"
   ]
  },
  {
   "cell_type": "markdown",
   "metadata": {},
   "source": [
    "<hr>"
   ]
  },
  {
   "cell_type": "markdown",
   "metadata": {},
   "source": [
    "## Watch the video tutorial"
   ]
  },
  {
   "cell_type": "code",
   "execution_count": 1,
   "metadata": {},
   "outputs": [
    {
     "data": {
      "text/html": [
       "<div align=\"center\"><iframe src=\"https://player.vimeo.com/video/510225048\" width=\"640\" height=\"360\" frameborder=\"0\" allow=\"autoplay; fullscreen; picture-in-picture\" allowfullscreen align=\"middle\"></iframe></div>"
      ],
      "text/plain": [
       "<IPython.core.display.HTML object>"
      ]
     },
     "execution_count": 1,
     "metadata": {},
     "output_type": "execute_result"
    }
   ],
   "source": [
    "from IPython.display import HTML\n",
    "HTML('<div align=\"center\"><iframe src=\"https://player.vimeo.com/video/636104139?h=ee3c58721c\" width=\"640\" height=\"360\" frameborder=\"0\" allow=\"autoplay; fullscreen; picture-in-picture\" allowfullscreen align=\"middle\"></iframe></div>')     "
   ]
  },
  {
   "cell_type": "markdown",
   "metadata": {},
   "source": [
    "<br>"
   ]
  },
  {
   "cell_type": "markdown",
   "metadata": {},
   "source": [
    "<hr>"
   ]
  },
  {
   "cell_type": "markdown",
   "metadata": {},
   "source": [
    "## Introduction"
   ]
  },
  {
   "cell_type": "markdown",
   "metadata": {},
   "source": [
    "This workflow shows you how you can train a `Convolutional Neural Network (CNN)` with Keras based on the benchmark dataset <a href='https://arxiv.org/abs/1709.00029' target='_blank'>EuroSAT</a>. The notebook provides you an introduction to the EuroSAT benchmark dataset, guides you through the preparation of training and test data and shows you how to configure and fit a Convolutional Neural Network. At the end how you can evaluate your model performance with a confusion matrix."
   ]
  },
  {
   "cell_type": "markdown",
   "metadata": {},
   "source": [
    "## Machine-Learning Algorithm"
   ]
  },
  {
   "cell_type": "markdown",
   "metadata": {},
   "source": [
    "This example develops a `Sequential Convolutional Neural Network (CNN)` with Keras. CNN's are often used for image classification. `Convolutional Neural Networks` use convolutional layers (ConV layers), which are the major building blocks used in convolutional neural networks. ConV layers are in principle a set of filters, which you can think of as 2D matrices of numbers, that turn input images into the expected output.\n",
    "\n",
    "The strength of CNN's is the abilitiy to automatically learn from a large number of filters in parallel and are often used for predicitve modelling problems, such as image classification. CNN's are often able to detect highly specific features on input images."
   ]
  },
  {
   "cell_type": "markdown",
   "metadata": {},
   "source": [
    "## Data"
   ]
  },
  {
   "cell_type": "markdown",
   "metadata": {},
   "source": [
    "The model is trained on the <a href='https://arxiv.org/abs/1709.00029' target='_blank'>EuroSAT benchmark dataset</a> which is based on Sentinel-2 satellite images and consists of a total of 27,000 labeled and geo-referenced images. The dataset provides information on the following ten land cover / land use classes:\n",
    "* `Annual Crop`\n",
    "* `Forest`\n",
    "* `Herbaceous Vegetation`\n",
    "* `Highway`\n",
    "* `Industrial`\n",
    "* `Pasture`\n",
    "* `Permanent Crop`\n",
    "* `Residential`\n",
    "* `River`\n",
    "* `Sea Lake`\n",
    "\n",
    "The benchmark dataset can be used to detect `land cover / land use changes`. The geo-referenced dataset EuroSAT is publicly available <a href='https://github.com/phelber/eurosat' target='_blank'>here</a>."
   ]
  },
  {
   "cell_type": "markdown",
   "metadata": {},
   "source": [
    "## Further resources"
   ]
  },
  {
   "cell_type": "markdown",
   "metadata": {},
   "source": [
    "* <a href='https://arxiv.org/abs/1709.00029' target='_blank'>EuroSAT: A Novel Dataset and Deep Learning Benchmark for Land Use and Land Cover Classification</a>\n",
    "* <a href='https://github.com/phelber/eurosat' target='_blank'>EuroSAT data</a>"
   ]
  },
  {
   "cell_type": "markdown",
   "metadata": {},
   "source": [
    "<hr>"
   ]
  },
  {
   "cell_type": "markdown",
   "metadata": {},
   "source": [
    "## Notebook outline\n",
    "* [1 - Load the EuroSAT benchmark dataset as input data](#load_eurosat)\n",
    "* [2 - Create training and test subsets from input data](#split_test_training_eurosat)\n",
    "* [3 - Define the Convolutional Neural Network architecture](#cnn_eurosat)\n",
    "* [4 - Fitting (training) of the convolutional neural network](#fitting_eurosat)\n",
    "* [5 - Evaluate the performance of the CNN model with a confusion matrix](#evaluate_eurosat)"
   ]
  },
  {
   "cell_type": "markdown",
   "metadata": {},
   "source": [
    "<hr>"
   ]
  },
  {
   "cell_type": "markdown",
   "metadata": {},
   "source": [
    "#### Import libraries"
   ]
  },
  {
   "cell_type": "code",
   "execution_count": 2,
   "metadata": {},
   "outputs": [],
   "source": [
    "## BEGIN S3FS IMPORT SNIPPET ##\n",
    "import os, sys\n",
    "s3_home =  os.getcwd()\n",
    "try: sys.path.remove(s3_home) # REMOVE THE S3 ROOT FROM THE $PATH\n",
    "except Exception: pass\n",
    "\n",
    "current_dir = os.getcwd()\n",
    "\n",
    "os.chdir('/home/jovyan') # TEMPORARILY MOVE TO ANOTHER DIRECTORY\n",
    "\n",
    "# BEGIN IMPORTS #\n",
    "from tensorflow import keras\n",
    "from tensorflow.keras.preprocessing.image import ImageDataGenerator\n",
    "from tensorflow.keras.models import Sequential\n",
    "from tensorflow.keras.layers import Dense, Dropout, Activation, Flatten\n",
    "from tensorflow.keras.layers import Conv2D, MaxPooling2D\n",
    "from tensorflow.keras.callbacks import ModelCheckpoint\n",
    "\n",
    "import glob\n",
    "\n",
    "import numpy as np\n",
    "import pandas as pd\n",
    "import seaborn as sns\n",
    "\n",
    "from osgeo import gdal_array\n",
    "from matplotlib import pyplot as plt\n",
    "\n",
    "from sklearn import metrics\n",
    "from sklearn.model_selection import train_test_split\n",
    "\n",
    "import zipfile\n",
    "# END IMPORTS #\n",
    "\n",
    "os.chdir(current_dir) # GO BACK TO YOUR PREVIOUS DIRECTORY\n",
    "\n",
    "sys.path.append(s3_home) # RESTORE THE S3 ROOT IN THE $PATH\n",
    "\n",
    "## END S3FS IMPORT SNIPPET ##\n"
   ]
  },
  {
   "cell_type": "markdown",
   "metadata": {},
   "source": [
    "#### Load helper functions"
   ]
  },
  {
   "cell_type": "code",
   "execution_count": 3,
   "metadata": {},
   "outputs": [],
   "source": [
    "%run ./3B_tile-based_classification_with_EuroSAT_data_functions.ipynb"
   ]
  },
  {
   "cell_type": "markdown",
   "metadata": {},
   "source": [
    "<hr>"
   ]
  },
  {
   "cell_type": "markdown",
   "metadata": {},
   "source": [
    "<br>"
   ]
  },
  {
   "cell_type": "markdown",
   "metadata": {},
   "source": [
    "## <a id='load_eurosat'></a>1. Load the EuroSAT benchmark dataset as input data"
   ]
  },
  {
   "cell_type": "markdown",
   "metadata": {},
   "source": [
    "The `EuroSAT benchmark dataset` is in the folder `./S2_Tile_based_classification/01_Input_data/S2_tile_4_training/`. This folder contains a total of ten folders, one for each land cover class. The first step is to go through the different folders and load all the EuroSAT images as a `numpy` array. You can use the function `.LoadFile` from the <a href='https://pypi.org/project/GDAL/' target='_blank'>GDAL Python bindings</a> module `gdal_array` to read a raster image (e.g. in `.tif` format) into a `numpy.array`.\n",
    "\n",
    "The result is `lst_arr_training`, a list of 10,000 arrays and each array has the dimension `[13, 64, 64]`. For each of the images, you want to create a `numpy.array` with ten entries indicating in binary form (0 or 1) the class the image belongs to. The resulting list is called `lst_gt_training` and has the same length as the list of training images.\n",
    "\n",
    "**NOTE**: for training purposes, the example only makes use of a subset (10,000 images) of the EuroSAT benchmark dataset (27,000 images)."
   ]
  },
  {
   "cell_type": "markdown",
   "metadata": {},
   "source": [
    "<br>"
   ]
  },
  {
   "cell_type": "markdown",
   "metadata": {},
   "source": [
    "Define the folder paths where the EuroSAT training images are located."
   ]
  },
  {
   "cell_type": "code",
   "execution_count": 4,
   "metadata": {},
   "outputs": [],
   "source": [
    " with zipfile.ZipFile(\"./S2_Tile_based_classification.zip\", 'r') as zip_ref:\n",
    "    zip_ref.extractall(\"/home/jovyan/\")\n",
    "\n",
    "MAIN_PATH = '/home/jovyan/S2_Tile_based_classification/'\n",
    "DATA_PATH = '01_Input_data/S2_tile_4_training/'"
   ]
  },
  {
   "cell_type": "markdown",
   "metadata": {},
   "source": [
    "<br>"
   ]
  },
  {
   "cell_type": "markdown",
   "metadata": {},
   "source": [
    "Loop over the training data folders and build up two lists: \n",
    "* `lst_arr_training` - List of training arrays\n",
    "* `lst_gt_training` - List of arrays indicating to which class each image belongs to"
   ]
  },
  {
   "cell_type": "code",
   "execution_count": 5,
   "metadata": {},
   "outputs": [
    {
     "name": "stdout",
     "output_type": "stream",
     "text": [
      "[AI4EO_MOOC]_log: There are 10 folders\n",
      "[AI4EO_MOOC]_log: There are 1000 images for data/S2_tile_4_training/AnnualCrop class\n",
      "[AI4EO_MOOC]_log: There are 1000 images for data/S2_tile_4_training/Forest class\n",
      "[AI4EO_MOOC]_log: There are 1000 images for data/S2_tile_4_training/HerbaceousVegetation class\n",
      "[AI4EO_MOOC]_log: There are 1000 images for data/S2_tile_4_training/Highway class\n",
      "[AI4EO_MOOC]_log: There are 1000 images for data/S2_tile_4_training/Industrial class\n",
      "[AI4EO_MOOC]_log: There are 1000 images for data/S2_tile_4_training/Pasture class\n",
      "[AI4EO_MOOC]_log: There are 1000 images for data/S2_tile_4_training/PermanentCrop class\n",
      "[AI4EO_MOOC]_log: There are 1000 images for data/S2_tile_4_training/Residential class\n",
      "[AI4EO_MOOC]_log: There are 1000 images for data/S2_tile_4_training/River class\n",
      "[AI4EO_MOOC]_log: There are 1000 images for data/S2_tile_4_training/SeaLake class\n"
     ]
    }
   ],
   "source": [
    "len_data_for_training_tmp = 1000\n",
    "\n",
    "folder_for_training = glob.glob(MAIN_PATH+DATA_PATH+'*/')\n",
    "\n",
    "print('[AI4EO_MOOC]_log: There are %d folders' % (len(folder_for_training)))\n",
    "\n",
    "lst_arr_training=[]\n",
    "lst_gt_training =[]\n",
    "for i in range(0,len(folder_for_training)):\n",
    "    data_for_training_tmp=glob.glob(folder_for_training[i]+'*.tif')\n",
    "    \n",
    "    print('[AI4EO_MOOC]_log: There are %d images for %s class' % (\n",
    "        \n",
    "        len_data_for_training_tmp, folder_for_training[i][40:-1])\n",
    "        )\n",
    "    \n",
    "    for j in range(0,len_data_for_training_tmp):\n",
    "        arr_tmp = gdal_array.LoadFile(data_for_training_tmp[j])\n",
    "        lst_arr_training.append(arr_tmp)\n",
    "        tmp_gt = np.zeros(10)\n",
    "        tmp_gt[i]=1\n",
    "        lst_gt_training.append(tmp_gt)"
   ]
  },
  {
   "cell_type": "code",
   "execution_count": 6,
   "metadata": {},
   "outputs": [
    {
     "data": {
      "text/plain": [
       "numpy.ndarray"
      ]
     },
     "execution_count": 6,
     "metadata": {},
     "output_type": "execute_result"
    }
   ],
   "source": [
    "type(lst_gt_training[0])"
   ]
  },
  {
   "cell_type": "markdown",
   "metadata": {},
   "source": [
    "<br>"
   ]
  },
  {
   "cell_type": "markdown",
   "metadata": {},
   "source": [
    "Let us inspect the length of the created lists as well as the dimensions of the images. You see that both lists have a length of 10,000 items. Each image has the dimension [13, 64, 64] and the binary class vector has a length of ten, representing the ten land cover classes."
   ]
  },
  {
   "cell_type": "code",
   "execution_count": 7,
   "metadata": {},
   "outputs": [
    {
     "name": "stdout",
     "output_type": "stream",
     "text": [
      "10000 10000\n",
      "(13, 64, 64) (10,)\n"
     ]
    }
   ],
   "source": [
    "print(len(lst_arr_training), len(lst_gt_training))\n",
    "print(lst_arr_training[1000-1].shape, lst_gt_training[1000-1].shape)\n"
   ]
  },
  {
   "cell_type": "markdown",
   "metadata": {},
   "source": [
    "<br>"
   ]
  },
  {
   "cell_type": "markdown",
   "metadata": {},
   "source": [
    "The next step is to transform the two lists of arrays into multistack arrays. You can do this with the numpy function `.asarray()`. The result are two numpy arrays with the following specifications:\n",
    "* `arr_training`: 4 dimensions (10000, 13, 64, 64) --> (number of images, bands, rows, columns)\n",
    "* `arr_gt`: 2 dimensions (10000, 10) --> (number of images, columns)"
   ]
  },
  {
   "cell_type": "code",
   "execution_count": 8,
   "metadata": {},
   "outputs": [
    {
     "data": {
      "text/plain": [
       "((10000, 13, 64, 64), (10000, 10))"
      ]
     },
     "execution_count": 8,
     "metadata": {},
     "output_type": "execute_result"
    }
   ],
   "source": [
    "arr_training = np.asarray(lst_arr_training)\n",
    "arr_gt = np.asarray(lst_gt_training)\n",
    "\n",
    "arr_training.shape, arr_gt.shape"
   ]
  },
  {
   "cell_type": "markdown",
   "metadata": {},
   "source": [
    "<br>"
   ]
  },
  {
   "cell_type": "markdown",
   "metadata": {},
   "source": [
    "### Reshape the multi-array's native shape to an AI readable shape"
   ]
  },
  {
   "cell_type": "markdown",
   "metadata": {},
   "source": [
    "Next, you have to reshape the array with the training images from its native shape (10000, 13, 64, 64) to a shape that is readable by Artificial Intelligence algorithms. For this reason, the multi-dimension array `arr_training` needs to be re-organised into the following dimensions:\n",
    "* `arr_training_res`: 4 dimensions (10000, 64, 64, 13) --> (number of images, rows, columns, bands)"
   ]
  },
  {
   "cell_type": "code",
   "execution_count": 9,
   "metadata": {},
   "outputs": [
    {
     "name": "stdout",
     "output_type": "stream",
     "text": [
      "[AI4EO_MOOC]_log: Reshape array from native shape (num_of_img:10000, bands:13, rows:64, columns:64) to AI readble shape (num_of_img:10000, rows:64, columns:64, bands:13). . .\n"
     ]
    },
    {
     "data": {
      "text/plain": [
       "(10000, 64, 64, 13)"
      ]
     },
     "execution_count": 9,
     "metadata": {},
     "output_type": "execute_result"
    }
   ],
   "source": [
    "num_of_img,bands,rows,columns=arr_training.shape\n",
    "\n",
    "print('[AI4EO_MOOC]_log: Reshape array from native shape (num_of_img:%d, bands:%d, rows:%d, columns:%d) to AI readble shape (num_of_img:%d, rows:%d, columns:%d, bands:%d). . .' % (num_of_img,bands,rows,columns, num_of_img,rows,columns,bands))\n",
    "\n",
    "arr_training_res = np.reshape(arr_training,(num_of_img,rows,columns,bands))\n",
    "arr_training_res.shape"
   ]
  },
  {
   "cell_type": "code",
   "execution_count": 10,
   "metadata": {},
   "outputs": [
    {
     "data": {
      "text/plain": [
       "numpy.ndarray"
      ]
     },
     "execution_count": 10,
     "metadata": {},
     "output_type": "execute_result"
    }
   ],
   "source": [
    "type(arr_training_res)"
   ]
  },
  {
   "cell_type": "markdown",
   "metadata": {},
   "source": [
    "<br>"
   ]
  },
  {
   "cell_type": "markdown",
   "metadata": {},
   "source": [
    "### Normalisation of the image radiances to a [0, 1] interval"
   ]
  },
  {
   "cell_type": "markdown",
   "metadata": {},
   "source": [
    "As a final step, we normalize the data and bring the data into a [0, 1] range. First, you want to transform the data type from `uint16 - [0,65535]` to `float32`. Then, you loop over each image in the numpy multi-dimension array, you retrieve the maximum value of each image with the numpy function `.amax()` and then you divide each value in the array by the maximum value."
   ]
  },
  {
   "cell_type": "code",
   "execution_count": 11,
   "metadata": {},
   "outputs": [
    {
     "name": "stdout",
     "output_type": "stream",
     "text": [
      "[AI4EO_MOOC]_log: Normalization data into [0,1] intervall...\n"
     ]
    }
   ],
   "source": [
    "print('[AI4EO_MOOC]_log: Normalization data into [0,1] intervall...')\n",
    "arr_training_res = arr_training_res.astype('float32')\n",
    "for i in range(0, len(arr_training_res)):    \n",
    "    amax_tmp=np.amax(arr_training_res[i,:,:,:])\n",
    "    arr_training_res[i,:,:,:] = arr_training_res[i,:,:,:] / amax_tmp"
   ]
  },
  {
   "cell_type": "markdown",
   "metadata": {},
   "source": [
    "<br>"
   ]
  },
  {
   "cell_type": "markdown",
   "metadata": {},
   "source": [
    "Let us inspect one image of the array. You see that the interval range is now a float number between 0 and 1."
   ]
  },
  {
   "cell_type": "code",
   "execution_count": 12,
   "metadata": {},
   "outputs": [
    {
     "data": {
      "text/plain": [
       "array([[[0.39282888, 0.39282888, 0.39335617, ..., 0.39625627,\n",
       "         0.3970472 , 0.39783812],\n",
       "        [0.39915633, 0.40047455, 0.40179276, ..., 0.40759292,\n",
       "         0.40601107, 0.40390193],\n",
       "        [0.40100184, 0.39783812, 0.39414713, ..., 0.36699182,\n",
       "         0.36540997, 0.36461905],\n",
       "        ...,\n",
       "        [0.38333774, 0.380174  , 0.3770103 , ..., 0.37121013,\n",
       "         0.37279198, 0.37437385],\n",
       "        [0.37621936, 0.37806487, 0.37964672, ..., 0.38149223,\n",
       "         0.3807013 , 0.37964672],\n",
       "        [0.37859213, 0.3778012 , 0.3770103 , ..., 0.37463748,\n",
       "         0.37463748, 0.37490115]],\n",
       "\n",
       "       [[0.3862378 , 0.3862378 , 0.3872924 , ..., 0.39783812,\n",
       "         0.3988927 , 0.39968362],\n",
       "        [0.40047455, 0.4007382 , 0.40100184, ..., 0.38755602,\n",
       "         0.3843923 , 0.38149223],\n",
       "        [0.37859213, 0.3759557 , 0.37358293, ..., 0.37463748,\n",
       "         0.37621936, 0.3778012 ],\n",
       "        ...,\n",
       "        [0.3807013 , 0.38201952, 0.38307407, ..., 0.39177433,\n",
       "         0.39177433, 0.39151067],\n",
       "        [0.3909834 , 0.38992882, 0.38887423, ..., 0.380174  ,\n",
       "         0.37991035, 0.37964672],\n",
       "        [0.37964672, 0.37964672, 0.37964672, ..., 0.37991035,\n",
       "         0.3793831 , 0.3788558 ]],\n",
       "\n",
       "       [[0.38755602, 0.38755602, 0.3872924 , ..., 0.3788558 ,\n",
       "         0.37753758, 0.376483  ],\n",
       "        [0.37569207, 0.37490115, 0.37437385, ..., 0.3788558 ,\n",
       "         0.37964672, 0.3807013 ],\n",
       "        [0.38175586, 0.38281044, 0.38412866, ..., 0.39071974,\n",
       "         0.3904561 , 0.38992882],\n",
       "        ...,\n",
       "        [0.37437385, 0.37305564, 0.37200105, ..., 0.37252834,\n",
       "         0.37358293, 0.37490115],\n",
       "        [0.3759557 , 0.37727392, 0.37859213, ..., 0.38386503,\n",
       "         0.38386503, 0.38386503],\n",
       "        [0.38386503, 0.38360137, 0.38386503, ..., 0.3896652 ,\n",
       "         0.39071974, 0.39230162]],\n",
       "\n",
       "       ...,\n",
       "\n",
       "       [[0.77089375, 0.77089375, 0.775903  , ..., 0.54126024,\n",
       "         0.5359873 , 0.528869  ],\n",
       "        [0.52043235, 0.5143686 , 0.5130504 , ..., 0.55496967,\n",
       "         0.5597153 , 0.56498814],\n",
       "        [0.5713156 , 0.5794885 , 0.589507  , ..., 0.63933563,\n",
       "         0.6343264 , 0.6332718 ],\n",
       "        ...,\n",
       "        [0.5164777 , 0.5164777 , 0.517005  , ..., 0.53071445,\n",
       "         0.5315054 , 0.53203267],\n",
       "        [0.53203267, 0.5346691 , 0.5462694 , ..., 0.6904825 ,\n",
       "         0.68969154, 0.6867915 ],\n",
       "        [0.6815186 , 0.67466384, 0.6672818 , ..., 0.6617453 ,\n",
       "         0.6675455 , 0.6836277 ]],\n",
       "\n",
       "       [[0.52201426, 0.52201426, 0.51911414, ..., 0.5154231 ,\n",
       "         0.5199051 , 0.5249143 ],\n",
       "        [0.5301872 , 0.5357237 , 0.54020566, ..., 0.51489586,\n",
       "         0.51146847, 0.5109412 ],\n",
       "        [0.5119958 , 0.5141049 , 0.51595044, ..., 0.53256   ,\n",
       "         0.53414184, 0.536251  ],\n",
       "        ...,\n",
       "        [0.49986818, 0.5025046 , 0.5085684 , ..., 0.7076193 ,\n",
       "         0.71473765, 0.7176378 ],\n",
       "        [0.71816504, 0.71500134, 0.7057738 , ..., 0.6456631 ,\n",
       "         0.6424993 , 0.64170843],\n",
       "        [0.64276296, 0.64381754, 0.64434487, ..., 0.6506723 ,\n",
       "         0.66121805, 0.67229104]],\n",
       "\n",
       "       [[0.5164777 , 0.5164777 , 0.5301872 , ..., 0.5692064 ,\n",
       "         0.5684155 , 0.5605062 ],\n",
       "        [0.54468757, 0.5254416 , 0.5075138 , ..., 0.49723175,\n",
       "         0.4993409 , 0.5019773 ],\n",
       "        [0.50804114, 0.52043235, 0.54205114, ..., 0.7049829 ,\n",
       "         0.70471925, 0.7039283 ],\n",
       "        ...,\n",
       "        [0.61666226, 0.6148168 , 0.6150804 , ..., 0.6791458 ,\n",
       "         0.6802004 , 0.67940944],\n",
       "        [0.6773003 , 0.67387295, 0.67018193, ..., 0.6567361 ,\n",
       "         0.6572634 , 0.6627999 ],\n",
       "        [0.6754548 , 0.6949644 , 0.7179014 , ..., 0.6744002 ,\n",
       "         0.6670182 , 0.66359085]]], dtype=float32)"
      ]
     },
     "execution_count": 12,
     "metadata": {},
     "output_type": "execute_result"
    }
   ],
   "source": [
    "arr_training_res[1000-1,:,:,:]"
   ]
  },
  {
   "cell_type": "markdown",
   "metadata": {},
   "source": [
    "<br>"
   ]
  },
  {
   "cell_type": "markdown",
   "metadata": {},
   "source": [
    "## <a id='split_test_training_eurosat'></a>2. Create training and test subsets from input data"
   ]
  },
  {
   "cell_type": "markdown",
   "metadata": {},
   "source": [
    "Let us now randomly split the training data into a `training subset` and a `testing subset`. Scikit-learn offers a popular function called `train_test_split()`, which creates four subsets based on the input and output variables `X - arr_training_res` and `y - arr_gt`. The function takes the following kwargs:\n",
    "\n",
    "* `arrays`: input and output data arrays\n",
    "* `test_size`: a float number representing the proportion of the input dataset to include in the test subset\n",
    "* `random_state`: An integer assuring reproducibility of the random shuffling of the data \n",
    "\n",
    "Let us use 85% of the input data for training and 15% for testing."
   ]
  },
  {
   "cell_type": "code",
   "execution_count": 13,
   "metadata": {},
   "outputs": [
    {
     "name": "stdout",
     "output_type": "stream",
     "text": [
      "[AI4EO_MOOC]_log: Training (85.00 %) and validation (15.00 %) split..\n"
     ]
    }
   ],
   "source": [
    "test_size=0.15\n",
    "print('[AI4EO_MOOC]_log: Training (%0.2f %%) and validation (%0.2f %%) split..' % (\n",
    "    (1-test_size)*100,(test_size)*100))\n",
    "\n",
    "X_train, X_test, y_train, y_test = train_test_split(\n",
    "        arr_training_res,\n",
    "        arr_gt, \n",
    "        test_size=test_size, \n",
    "        random_state=42)"
   ]
  },
  {
   "cell_type": "markdown",
   "metadata": {},
   "source": [
    "<br>"
   ]
  },
  {
   "cell_type": "markdown",
   "metadata": {},
   "source": [
    "## <a id='cnn_eurosat'></a>3. Define the Convolutional Neural Network architecture"
   ]
  },
  {
   "cell_type": "markdown",
   "metadata": {},
   "source": [
    "First, we initiate a `sequential neural network` model with the Keras class `keras.Sequential()`."
   ]
  },
  {
   "cell_type": "code",
   "execution_count": 14,
   "metadata": {},
   "outputs": [
    {
     "name": "stdout",
     "output_type": "stream",
     "text": [
      "[AI4EO_MOOC]_log: Convolutional Neural Network architecture:\n"
     ]
    }
   ],
   "source": [
    "_, num_classes = y_train.shape\n",
    "print('[AI4EO_MOOC]_log: Convolutional Neural Network architecture:')\n",
    "model = keras.Sequential()"
   ]
  },
  {
   "cell_type": "markdown",
   "metadata": {},
   "source": [
    "<br>"
   ]
  },
  {
   "cell_type": "markdown",
   "metadata": {},
   "source": [
    "The next step is to build up the architecture of the `Convolutional Neural Network (CNN)`, with the function `model.add()`. \n",
    "A `CNN` composes of the following set of layers:\n",
    "* `Conv2D`: Convolutional layer with number of filters, e.g. 32 or 64, the shape of the filter ((3,3), (5,5), ...) and the application of padding\n",
    "* `Activation`: Activation layer, e.g. `relu`, `sigmod`, ...\n",
    "* `MaxPooling2D`: Max Pooling layer with shape (2,2), (3,3), ...\n",
    "* `Dropout`: to reduce overfitting\n",
    "\n",
    "In the following code block, we build three blocks of layers: \n",
    "\n",
    "* **First block of layers**<br>\n",
    "The first block of layers conists of two `Conv2D` layers with 32 neurons and we add non-linear properties by adding an `Activation` layer in between. We then define a `MaxPooling2D`layer, which downsamples the input by taking the maximum value of a given window size. The block of layers finishes with a `Dropout` layer, which randomly skips 25% of the interconnections.\n",
    "\n",
    "* **Second block of layers**<br>\n",
    "The second block of layers conists again of two `Conv2D` layers, but this time with 64 neurons and we add non-linear properties by adding an `Activation` layer in between. We then define a `MaxPooling2D`layer, which downsamples the input by taking the maximum value of a given window size. The block of layers finishes with a `Dropout` layer, which randomly skips 25% of the interconnections.\n",
    "\n",
    "* **Third block of layers**<br>\n",
    "The third block consists of two `Dense` layers, which are fully-connected layers. In between, we again add non-linear properties by adding an `Activation` layer. The number of neurons of the final `Dense` layer has to be the same as the number of land use classes."
   ]
  },
  {
   "cell_type": "code",
   "execution_count": 15,
   "metadata": {},
   "outputs": [],
   "source": [
    "model.add(Conv2D(32, (3, 3), padding='same', input_shape=X_train.shape[1:]))\n",
    "model.add(Activation('relu'))\n",
    "model.add(Conv2D(32, (3, 3)))\n",
    "model.add(Activation('relu'))\n",
    "model.add(MaxPooling2D(pool_size=(2, 2)))\n",
    "model.add(Dropout(0.25))\n",
    "\n",
    "model.add(Conv2D(64, (3, 3), padding='same'))\n",
    "model.add(Activation('relu'))\n",
    "model.add(Conv2D(64, (3, 3)))\n",
    "model.add(Activation('relu'))\n",
    "model.add(MaxPooling2D(pool_size=(2, 2)))\n",
    "model.add(Dropout(0.25))\n",
    "\n",
    "model.add(Flatten())\n",
    "model.add(Dense(512))\n",
    "model.add(Activation('relu'))\n",
    "model.add(Dropout(0.5))\n",
    "model.add(Dense(num_classes))\n",
    "model.add(Activation('softmax'))\n"
   ]
  },
  {
   "cell_type": "markdown",
   "metadata": {},
   "source": [
    "<br>"
   ]
  },
  {
   "cell_type": "markdown",
   "metadata": {},
   "source": [
    "After the model architecture has been defined, you can compile (configure) the model with `model.compile()` and define the following hyperparameters:\n",
    "* `loss='categorical_crossentropy'` - Categorical crossentropy is one of many loss options and calculates the crossentropy loss between the labels and the predictions\n",
    "* `optimizer=RMSprop(lr=0.0001, decay=1e-6)` - Optimizers are algorithms the network learns from\n",
    "* `metrics=['accuracy']` - is used to evaluate how the model is performing"
   ]
  },
  {
   "cell_type": "code",
   "execution_count": 16,
   "metadata": {},
   "outputs": [],
   "source": [
    "opt = keras.optimizers.RMSprop(lr=0.0001, decay=1e-6)\n",
    "\n",
    "model.compile(loss='categorical_crossentropy',\n",
    "              optimizer=opt,\n",
    "              metrics=['accuracy'])"
   ]
  },
  {
   "cell_type": "markdown",
   "metadata": {},
   "source": [
    "<br>"
   ]
  },
  {
   "cell_type": "markdown",
   "metadata": {},
   "source": [
    "The function `model.summary()` provides you a tabular summary of the `CNN architecture`, which is helpful to see the output shape of the model after each operation."
   ]
  },
  {
   "cell_type": "code",
   "execution_count": 17,
   "metadata": {},
   "outputs": [
    {
     "name": "stdout",
     "output_type": "stream",
     "text": [
      "Model: \"sequential\"\n",
      "_________________________________________________________________\n",
      "Layer (type)                 Output Shape              Param #   \n",
      "=================================================================\n",
      "conv2d (Conv2D)              (None, 64, 64, 32)        3776      \n",
      "_________________________________________________________________\n",
      "activation (Activation)      (None, 64, 64, 32)        0         \n",
      "_________________________________________________________________\n",
      "conv2d_1 (Conv2D)            (None, 62, 62, 32)        9248      \n",
      "_________________________________________________________________\n",
      "activation_1 (Activation)    (None, 62, 62, 32)        0         \n",
      "_________________________________________________________________\n",
      "max_pooling2d (MaxPooling2D) (None, 31, 31, 32)        0         \n",
      "_________________________________________________________________\n",
      "dropout (Dropout)            (None, 31, 31, 32)        0         \n",
      "_________________________________________________________________\n",
      "conv2d_2 (Conv2D)            (None, 31, 31, 64)        18496     \n",
      "_________________________________________________________________\n",
      "activation_2 (Activation)    (None, 31, 31, 64)        0         \n",
      "_________________________________________________________________\n",
      "conv2d_3 (Conv2D)            (None, 29, 29, 64)        36928     \n",
      "_________________________________________________________________\n",
      "activation_3 (Activation)    (None, 29, 29, 64)        0         \n",
      "_________________________________________________________________\n",
      "max_pooling2d_1 (MaxPooling2 (None, 14, 14, 64)        0         \n",
      "_________________________________________________________________\n",
      "dropout_1 (Dropout)          (None, 14, 14, 64)        0         \n",
      "_________________________________________________________________\n",
      "flatten (Flatten)            (None, 12544)             0         \n",
      "_________________________________________________________________\n",
      "dense (Dense)                (None, 512)               6423040   \n",
      "_________________________________________________________________\n",
      "activation_4 (Activation)    (None, 512)               0         \n",
      "_________________________________________________________________\n",
      "dropout_2 (Dropout)          (None, 512)               0         \n",
      "_________________________________________________________________\n",
      "dense_1 (Dense)              (None, 10)                5130      \n",
      "_________________________________________________________________\n",
      "activation_5 (Activation)    (None, 10)                0         \n",
      "=================================================================\n",
      "Total params: 6,496,618\n",
      "Trainable params: 6,496,618\n",
      "Non-trainable params: 0\n",
      "_________________________________________________________________\n"
     ]
    }
   ],
   "source": [
    "model.summary()"
   ]
  },
  {
   "cell_type": "markdown",
   "metadata": {},
   "source": [
    "<br>"
   ]
  },
  {
   "cell_type": "markdown",
   "metadata": {},
   "source": [
    "## <a id='fitting_eurosat'></a>4. Fitting (training) of the convolutional neural network"
   ]
  },
  {
   "cell_type": "markdown",
   "metadata": {},
   "source": [
    "The next step in the training process is the actual training (fitting) of the model. Since the training process is time-consuming (depening on the technical capabilities of your machine as well as the architecture of your model), it is a common practise to save the model with the best accuracy. The saved model can then be re-loaded without the need to repeat the training process."
   ]
  },
  {
   "cell_type": "markdown",
   "metadata": {},
   "source": [
    "Let us set the folder path to which the model with the best validation accuracy is saved to. The pre-trained model is saved in the folder `02_pretrained_model`."
   ]
  },
  {
   "cell_type": "code",
   "execution_count": 18,
   "metadata": {},
   "outputs": [
    {
     "data": {
      "text/plain": [
       "'./S2_Tile_based_classification/02_pretrained_model/keras_sentinel2_classification_trained_model_e50.json'"
      ]
     },
     "execution_count": 18,
     "metadata": {},
     "output_type": "execute_result"
    }
   ],
   "source": [
    "save_dir = MAIN_PATH + '02_pretrained_model/'\n",
    "model_name = 'keras_sentinel2_classification_trained_model_e50.json'\n",
    "\n",
    "filepath_tmp = save_dir+model_name\n",
    "filepath_tmp"
   ]
  },
  {
   "cell_type": "markdown",
   "metadata": {},
   "source": [
    "<br>"
   ]
  },
  {
   "cell_type": "markdown",
   "metadata": {},
   "source": [
    "`Callbacks` are utilities that are called at certain points during model training. They can support you in better understanding the performance of your model during training. One useful callback is <a href='https://www.tensorflow.org/api_docs/python/tf/keras/callbacks/ModelCheckpoint' target='_blank'>ModelCheckpoint</a>,, which allows you to save the Keras model after training. With the class `ModelCheckpoint` you can define the type of information you would like to save.\n",
    "\n",
    "The following code saves only the model with the best `validation accuracy`."
   ]
  },
  {
   "cell_type": "code",
   "execution_count": 19,
   "metadata": {},
   "outputs": [],
   "source": [
    "checkpoint = ModelCheckpoint(\n",
    "    filepath_tmp, \n",
    "    'val_accuracy', \n",
    "    verbose=1, \n",
    "    save_best_only=True, \n",
    "    mode='max')\n",
    "callbacks_list = [checkpoint]"
   ]
  },
  {
   "cell_type": "markdown",
   "metadata": {},
   "source": [
    "<br>"
   ]
  },
  {
   "cell_type": "markdown",
   "metadata": {},
   "source": [
    "The final step is to train (fit) the Keras model. You can use `model.fit()` to fit the model based on the training dataset. The resulting object is a `history` object and a common practise is to call the output of the training process `history`.\n",
    "\n",
    "The function `model.fit()` requires you to specify the following parameters:\n",
    "* `input (X)` and `output (y)` data: here we specify the input and output training data of your model\n",
    "* `validation_data`: here we enter the test data subsets X_test and y_test and our model outputs are validated against these validation data after each epoch (training cycle)\n",
    "* `epochs`: number of training cycles\n",
    "* `batch_size`: defines the size of a training data subset (e.g. 32 samples) after which the weights of the network are updated\n",
    "* `callbacks`: define here the callbacks you would like to make use of during the training process\n",
    "* `verbose`: specify how the progress of the training shall be shown - option 0, 1, 2 - option 1 for example shows you a progress bar for each epoch"
   ]
  },
  {
   "cell_type": "code",
   "execution_count": 20,
   "metadata": {},
   "outputs": [
    {
     "name": "stdout",
     "output_type": "stream",
     "text": [
      "Epoch 1/10\n",
      "266/266 [==============================] - 71s 263ms/step - loss: 1.6832 - accuracy: 0.3857 - val_loss: 1.0249 - val_accuracy: 0.6440\n",
      "\n",
      "Epoch 00001: val_accuracy improved from -inf to 0.64400, saving model to ./S2_Tile_based_classification/02_pretrained_model/keras_sentinel2_classification_trained_model_e50.json\n",
      "INFO:tensorflow:Assets written to: ./S2_Tile_based_classification/02_pretrained_model/keras_sentinel2_classification_trained_model_e50.json/assets\n",
      "Epoch 2/10\n",
      "266/266 [==============================] - 68s 257ms/step - loss: 1.0403 - accuracy: 0.6201 - val_loss: 0.8610 - val_accuracy: 0.6660\n",
      "\n",
      "Epoch 00002: val_accuracy improved from 0.64400 to 0.66600, saving model to ./S2_Tile_based_classification/02_pretrained_model/keras_sentinel2_classification_trained_model_e50.json\n",
      "INFO:tensorflow:Assets written to: ./S2_Tile_based_classification/02_pretrained_model/keras_sentinel2_classification_trained_model_e50.json/assets\n",
      "Epoch 3/10\n",
      "266/266 [==============================] - 70s 262ms/step - loss: 0.8726 - accuracy: 0.6926 - val_loss: 0.6903 - val_accuracy: 0.7627\n",
      "\n",
      "Epoch 00003: val_accuracy improved from 0.66600 to 0.76267, saving model to ./S2_Tile_based_classification/02_pretrained_model/keras_sentinel2_classification_trained_model_e50.json\n",
      "INFO:tensorflow:Assets written to: ./S2_Tile_based_classification/02_pretrained_model/keras_sentinel2_classification_trained_model_e50.json/assets\n",
      "Epoch 4/10\n",
      "266/266 [==============================] - 69s 259ms/step - loss: 0.7703 - accuracy: 0.7331 - val_loss: 0.6236 - val_accuracy: 0.7960\n",
      "\n",
      "Epoch 00004: val_accuracy improved from 0.76267 to 0.79600, saving model to ./S2_Tile_based_classification/02_pretrained_model/keras_sentinel2_classification_trained_model_e50.json\n",
      "INFO:tensorflow:Assets written to: ./S2_Tile_based_classification/02_pretrained_model/keras_sentinel2_classification_trained_model_e50.json/assets\n",
      "Epoch 5/10\n",
      "266/266 [==============================] - 67s 254ms/step - loss: 0.6859 - accuracy: 0.7685 - val_loss: 0.5633 - val_accuracy: 0.8133\n",
      "\n",
      "Epoch 00005: val_accuracy improved from 0.79600 to 0.81333, saving model to ./S2_Tile_based_classification/02_pretrained_model/keras_sentinel2_classification_trained_model_e50.json\n",
      "INFO:tensorflow:Assets written to: ./S2_Tile_based_classification/02_pretrained_model/keras_sentinel2_classification_trained_model_e50.json/assets\n",
      "Epoch 6/10\n",
      "266/266 [==============================] - 68s 256ms/step - loss: 0.6346 - accuracy: 0.7829 - val_loss: 0.5997 - val_accuracy: 0.7947\n",
      "\n",
      "Epoch 00006: val_accuracy did not improve from 0.81333\n",
      "Epoch 7/10\n",
      "266/266 [==============================] - 67s 252ms/step - loss: 0.5924 - accuracy: 0.7969 - val_loss: 0.5744 - val_accuracy: 0.7893\n",
      "\n",
      "Epoch 00007: val_accuracy did not improve from 0.81333\n",
      "Epoch 8/10\n",
      "266/266 [==============================] - 68s 257ms/step - loss: 0.5363 - accuracy: 0.8097 - val_loss: 0.4954 - val_accuracy: 0.8273\n",
      "\n",
      "Epoch 00008: val_accuracy improved from 0.81333 to 0.82733, saving model to ./S2_Tile_based_classification/02_pretrained_model/keras_sentinel2_classification_trained_model_e50.json\n",
      "INFO:tensorflow:Assets written to: ./S2_Tile_based_classification/02_pretrained_model/keras_sentinel2_classification_trained_model_e50.json/assets\n",
      "Epoch 9/10\n",
      "266/266 [==============================] - 68s 255ms/step - loss: 0.5224 - accuracy: 0.8182 - val_loss: 0.4931 - val_accuracy: 0.8347\n",
      "\n",
      "Epoch 00009: val_accuracy improved from 0.82733 to 0.83467, saving model to ./S2_Tile_based_classification/02_pretrained_model/keras_sentinel2_classification_trained_model_e50.json\n",
      "INFO:tensorflow:Assets written to: ./S2_Tile_based_classification/02_pretrained_model/keras_sentinel2_classification_trained_model_e50.json/assets\n",
      "Epoch 10/10\n",
      "266/266 [==============================] - 69s 259ms/step - loss: 0.4895 - accuracy: 0.8292 - val_loss: 0.5167 - val_accuracy: 0.8293\n",
      "\n",
      "Epoch 00010: val_accuracy did not improve from 0.83467\n"
     ]
    }
   ],
   "source": [
    "batch_size = 32\n",
    "epochs = 10\n",
    "\n",
    "history = model.fit(X_train, y_train,\n",
    "                    epochs=epochs,\n",
    "                    batch_size=batch_size,\n",
    "                    validation_data=(X_test, y_test),\n",
    "                    callbacks=callbacks_list,\n",
    "                    verbose = 1)   \n",
    "   "
   ]
  },
  {
   "cell_type": "markdown",
   "metadata": {},
   "source": [
    "<br>"
   ]
  },
  {
   "cell_type": "markdown",
   "metadata": {},
   "source": [
    "## <a id='evaluate_eurosat'></a>5. Evaluate the performance of the CNN model with a confusion matrix"
   ]
  },
  {
   "cell_type": "markdown",
   "metadata": {},
   "source": [
    "The final step is to evaluate the performance of your model and the model's ability to classify land cover / land use with the help of the test data. With the function `model.predict()`, you can classify the test input data (`X_test`). The result `y_pred` is an array with the dimensions `(1500, 10)`. For each input image of the test data, the prediction provides a vector which holds for each class the probability of the class."
   ]
  },
  {
   "cell_type": "code",
   "execution_count": 21,
   "metadata": {},
   "outputs": [
    {
     "data": {
      "text/plain": [
       "(1500, 10)"
      ]
     },
     "execution_count": 21,
     "metadata": {},
     "output_type": "execute_result"
    }
   ],
   "source": [
    "y_pred = model.predict(X_test)\n",
    "y_pred.shape"
   ]
  },
  {
   "cell_type": "markdown",
   "metadata": {},
   "source": [
    "<br>"
   ]
  },
  {
   "cell_type": "markdown",
   "metadata": {},
   "source": [
    "The final classification result is the class with the highest probability. The aim is to have a vector with the same length of the number of test images, which provides for each image the final predicted class. For this, we have to loop over the predicted (`y_pred`) and test (`y_test`) output arrays and retrieve the index of the argument with the maximum value. You can retrieve the index of the argument with the maximum value with numpy's function `np.argmax()`.\n",
    "\n",
    "The result are two one dimensional arrays, `y_pred_amax` and `y_test_amax`, providing the index of the land cover class for each image."
   ]
  },
  {
   "cell_type": "code",
   "execution_count": 22,
   "metadata": {},
   "outputs": [
    {
     "data": {
      "text/plain": [
       "(array([6., 4., 1., ..., 6., 6., 3.]), array([6., 4., 1., ..., 6., 6., 3.]))"
      ]
     },
     "execution_count": 22,
     "metadata": {},
     "output_type": "execute_result"
    }
   ],
   "source": [
    "y_pred_amax=np.zeros((len(y_pred)))    \n",
    "y_test_amax=np.zeros((len(y_pred)))\n",
    "\n",
    "for i in range(0,len(y_pred)):\n",
    "    y_pred_amax[i]=np.argmax(y_pred[i,:])\n",
    "    y_test_amax[i]=np.argmax(y_test[i,:])\n",
    "    \n",
    "y_test_amax, y_pred_amax"
   ]
  },
  {
   "cell_type": "markdown",
   "metadata": {},
   "source": [
    "<br>"
   ]
  },
  {
   "cell_type": "markdown",
   "metadata": {},
   "source": [
    "### Create a confusion matrix"
   ]
  },
  {
   "cell_type": "markdown",
   "metadata": {},
   "source": [
    "Classification accuracy alone can often be misleading, especially if you have an unequal number of observations in each class or if you have more than two classes in your dataset. A confusion matrix can give you a better idea of what your model is getting right and what type of errors it is making. A `confusion matrix` is also known as error matrix and is a common technique for summarizing the performance of a classification algorithm. \n",
    "\n",
    "The metrics class of the scikit-learn package offers the function `confusion_matrix`, which computes the confusion matrix between the actual (`y_test_amax`) and predicted class (`y_pred_amax`). The result is a matrix which summarizes the number of correct and incorrect predictions with count values broken down by each class. The rows indicate the actual class and the columns indicate the predicted class."
   ]
  },
  {
   "cell_type": "code",
   "execution_count": 23,
   "metadata": {},
   "outputs": [
    {
     "data": {
      "text/plain": [
       "array([[ 86,   2,  20,   9,   0,   3,  40,   1,   0,   0],\n",
       "       [  0, 147,   2,   0,   0,   1,   1,   0,   0,   0],\n",
       "       [  0,   2, 133,   0,   0,   3,   1,   0,   0,   1],\n",
       "       [  3,   3,  22,  77,   3,  17,   8,  15,   1,   0],\n",
       "       [  0,   0,   2,   1, 141,   0,   0,  10,   2,   0],\n",
       "       [  0,  12,   9,   0,   0, 113,   5,   0,   0,   0],\n",
       "       [  2,   0,  16,   5,   0,   2, 125,   3,   0,   0],\n",
       "       [  0,   1,   2,   2,   2,   0,   2, 146,   0,   0],\n",
       "       [  0,   2,   4,   7,   1,   4,   0,   0, 148,   1],\n",
       "       [  0,   0,   0,   0,   0,   0,   0,   0,   1, 128]])"
      ]
     },
     "execution_count": 23,
     "metadata": {},
     "output_type": "execute_result"
    }
   ],
   "source": [
    "matrix = metrics.confusion_matrix(y_test_amax, y_pred_amax) \n",
    "matrix"
   ]
  },
  {
   "cell_type": "markdown",
   "metadata": {},
   "source": [
    "<br>"
   ]
  },
  {
   "cell_type": "markdown",
   "metadata": {},
   "source": [
    "Let us convert the matrix into a `pandas.dataframe` and add class labels to the rows and columns. This helps to better interpret the results."
   ]
  },
  {
   "cell_type": "code",
   "execution_count": 24,
   "metadata": {},
   "outputs": [
    {
     "data": {
      "text/html": [
       "<div>\n",
       "<style scoped>\n",
       "    .dataframe tbody tr th:only-of-type {\n",
       "        vertical-align: middle;\n",
       "    }\n",
       "\n",
       "    .dataframe tbody tr th {\n",
       "        vertical-align: top;\n",
       "    }\n",
       "\n",
       "    .dataframe thead th {\n",
       "        text-align: right;\n",
       "    }\n",
       "</style>\n",
       "<table border=\"1\" class=\"dataframe\">\n",
       "  <thead>\n",
       "    <tr style=\"text-align: right;\">\n",
       "      <th></th>\n",
       "      <th>AnnualCrop</th>\n",
       "      <th>Forest</th>\n",
       "      <th>HerbaceousVegetation</th>\n",
       "      <th>Highway</th>\n",
       "      <th>Industrial</th>\n",
       "      <th>Pasture</th>\n",
       "      <th>PermanentCrop</th>\n",
       "      <th>Residential</th>\n",
       "      <th>River</th>\n",
       "      <th>SeaLake</th>\n",
       "    </tr>\n",
       "  </thead>\n",
       "  <tbody>\n",
       "    <tr>\n",
       "      <th>AnnualCrop</th>\n",
       "      <td>86</td>\n",
       "      <td>2</td>\n",
       "      <td>20</td>\n",
       "      <td>9</td>\n",
       "      <td>0</td>\n",
       "      <td>3</td>\n",
       "      <td>40</td>\n",
       "      <td>1</td>\n",
       "      <td>0</td>\n",
       "      <td>0</td>\n",
       "    </tr>\n",
       "    <tr>\n",
       "      <th>Forest</th>\n",
       "      <td>0</td>\n",
       "      <td>147</td>\n",
       "      <td>2</td>\n",
       "      <td>0</td>\n",
       "      <td>0</td>\n",
       "      <td>1</td>\n",
       "      <td>1</td>\n",
       "      <td>0</td>\n",
       "      <td>0</td>\n",
       "      <td>0</td>\n",
       "    </tr>\n",
       "    <tr>\n",
       "      <th>HerbaceousVegetation</th>\n",
       "      <td>0</td>\n",
       "      <td>2</td>\n",
       "      <td>133</td>\n",
       "      <td>0</td>\n",
       "      <td>0</td>\n",
       "      <td>3</td>\n",
       "      <td>1</td>\n",
       "      <td>0</td>\n",
       "      <td>0</td>\n",
       "      <td>1</td>\n",
       "    </tr>\n",
       "    <tr>\n",
       "      <th>Highway</th>\n",
       "      <td>3</td>\n",
       "      <td>3</td>\n",
       "      <td>22</td>\n",
       "      <td>77</td>\n",
       "      <td>3</td>\n",
       "      <td>17</td>\n",
       "      <td>8</td>\n",
       "      <td>15</td>\n",
       "      <td>1</td>\n",
       "      <td>0</td>\n",
       "    </tr>\n",
       "    <tr>\n",
       "      <th>Industrial</th>\n",
       "      <td>0</td>\n",
       "      <td>0</td>\n",
       "      <td>2</td>\n",
       "      <td>1</td>\n",
       "      <td>141</td>\n",
       "      <td>0</td>\n",
       "      <td>0</td>\n",
       "      <td>10</td>\n",
       "      <td>2</td>\n",
       "      <td>0</td>\n",
       "    </tr>\n",
       "    <tr>\n",
       "      <th>Pasture</th>\n",
       "      <td>0</td>\n",
       "      <td>12</td>\n",
       "      <td>9</td>\n",
       "      <td>0</td>\n",
       "      <td>0</td>\n",
       "      <td>113</td>\n",
       "      <td>5</td>\n",
       "      <td>0</td>\n",
       "      <td>0</td>\n",
       "      <td>0</td>\n",
       "    </tr>\n",
       "    <tr>\n",
       "      <th>PermanentCrop</th>\n",
       "      <td>2</td>\n",
       "      <td>0</td>\n",
       "      <td>16</td>\n",
       "      <td>5</td>\n",
       "      <td>0</td>\n",
       "      <td>2</td>\n",
       "      <td>125</td>\n",
       "      <td>3</td>\n",
       "      <td>0</td>\n",
       "      <td>0</td>\n",
       "    </tr>\n",
       "    <tr>\n",
       "      <th>Residential</th>\n",
       "      <td>0</td>\n",
       "      <td>1</td>\n",
       "      <td>2</td>\n",
       "      <td>2</td>\n",
       "      <td>2</td>\n",
       "      <td>0</td>\n",
       "      <td>2</td>\n",
       "      <td>146</td>\n",
       "      <td>0</td>\n",
       "      <td>0</td>\n",
       "    </tr>\n",
       "    <tr>\n",
       "      <th>River</th>\n",
       "      <td>0</td>\n",
       "      <td>2</td>\n",
       "      <td>4</td>\n",
       "      <td>7</td>\n",
       "      <td>1</td>\n",
       "      <td>4</td>\n",
       "      <td>0</td>\n",
       "      <td>0</td>\n",
       "      <td>148</td>\n",
       "      <td>1</td>\n",
       "    </tr>\n",
       "    <tr>\n",
       "      <th>SeaLake</th>\n",
       "      <td>0</td>\n",
       "      <td>0</td>\n",
       "      <td>0</td>\n",
       "      <td>0</td>\n",
       "      <td>0</td>\n",
       "      <td>0</td>\n",
       "      <td>0</td>\n",
       "      <td>0</td>\n",
       "      <td>1</td>\n",
       "      <td>128</td>\n",
       "    </tr>\n",
       "  </tbody>\n",
       "</table>\n",
       "</div>"
      ],
      "text/plain": [
       "                      AnnualCrop  Forest  HerbaceousVegetation  Highway  \\\n",
       "AnnualCrop                    86       2                    20        9   \n",
       "Forest                         0     147                     2        0   \n",
       "HerbaceousVegetation           0       2                   133        0   \n",
       "Highway                        3       3                    22       77   \n",
       "Industrial                     0       0                     2        1   \n",
       "Pasture                        0      12                     9        0   \n",
       "PermanentCrop                  2       0                    16        5   \n",
       "Residential                    0       1                     2        2   \n",
       "River                          0       2                     4        7   \n",
       "SeaLake                        0       0                     0        0   \n",
       "\n",
       "                      Industrial  Pasture  PermanentCrop  Residential  River  \\\n",
       "AnnualCrop                     0        3             40            1      0   \n",
       "Forest                         0        1              1            0      0   \n",
       "HerbaceousVegetation           0        3              1            0      0   \n",
       "Highway                        3       17              8           15      1   \n",
       "Industrial                   141        0              0           10      2   \n",
       "Pasture                        0      113              5            0      0   \n",
       "PermanentCrop                  0        2            125            3      0   \n",
       "Residential                    2        0              2          146      0   \n",
       "River                          1        4              0            0    148   \n",
       "SeaLake                        0        0              0            0      1   \n",
       "\n",
       "                      SeaLake  \n",
       "AnnualCrop                  0  \n",
       "Forest                      0  \n",
       "HerbaceousVegetation        1  \n",
       "Highway                     0  \n",
       "Industrial                  0  \n",
       "Pasture                     0  \n",
       "PermanentCrop               0  \n",
       "Residential                 0  \n",
       "River                       1  \n",
       "SeaLake                   128  "
      ]
     },
     "execution_count": 24,
     "metadata": {},
     "output_type": "execute_result"
    }
   ],
   "source": [
    "label_str=[\n",
    "    'AnnualCrop',\n",
    "    'Forest',\n",
    "    'HerbaceousVegetation',\n",
    "    'Highway',\n",
    "    'Industrial',\n",
    "    'Pasture',\n",
    "    'PermanentCrop',\n",
    "    'Residential',\n",
    "    'River',\n",
    "    'SeaLake' ]\n",
    "\n",
    "\n",
    "con_mat_df = pd.DataFrame(matrix,\n",
    "                                index  = label_str,\n",
    "                                columns= label_str)\n",
    "con_mat_df"
   ]
  },
  {
   "cell_type": "markdown",
   "metadata": {},
   "source": [
    "<br>"
   ]
  },
  {
   "cell_type": "markdown",
   "metadata": {},
   "source": [
    "Now, you can use the `heatmap()` function of the seaborn library to visualize the confusion matrix, which gives you a more visual picture of the classification performance of the model."
   ]
  },
  {
   "cell_type": "code",
   "execution_count": 25,
   "metadata": {},
   "outputs": [
    {
     "data": {
      "image/png": "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\n",
      "text/plain": [
       "<Figure size 720x720 with 2 Axes>"
      ]
     },
     "metadata": {
      "needs_background": "light"
     },
     "output_type": "display_data"
    }
   ],
   "source": [
    "plt.figure(figsize=(10, 10))\n",
    "sns.heatmap(con_mat_df,\n",
    "            annot=True,\n",
    "            fmt='d',\n",
    "            cmap=plt.cm.Blues)\n",
    "plt.tight_layout()\n",
    "plt.ylabel('True label')\n",
    "plt.xlabel('Predicted label')\n",
    "plt.show()"
   ]
  },
  {
   "cell_type": "markdown",
   "metadata": {},
   "source": [
    "<br>"
   ]
  },
  {
   "cell_type": "markdown",
   "metadata": {},
   "source": [
    "Alternatively, you can also normalize the confusion matrix, which makes it often easier to interpret how the classes are predicted by the model. You can create the `normalized confusion matrix` also with the function `confusion_matrix` from scikit-learn's 'metrics' class, but you have to set the keyword argument `normalize` to true."
   ]
  },
  {
   "cell_type": "code",
   "execution_count": 26,
   "metadata": {},
   "outputs": [],
   "source": [
    "matrix_norm = metrics.confusion_matrix(y_test_amax, y_pred_amax, normalize='true') \n",
    "\n",
    "matrix_norm = np.around(matrix_norm,decimals=2)"
   ]
  },
  {
   "cell_type": "markdown",
   "metadata": {},
   "source": [
    "<br>"
   ]
  },
  {
   "cell_type": "markdown",
   "metadata": {},
   "source": [
    "Now, you can also transform the normalized matrix to a pandas data frame. You see now that the matrix represents relative frequencies per row."
   ]
  },
  {
   "cell_type": "code",
   "execution_count": 27,
   "metadata": {},
   "outputs": [
    {
     "data": {
      "text/html": [
       "<div>\n",
       "<style scoped>\n",
       "    .dataframe tbody tr th:only-of-type {\n",
       "        vertical-align: middle;\n",
       "    }\n",
       "\n",
       "    .dataframe tbody tr th {\n",
       "        vertical-align: top;\n",
       "    }\n",
       "\n",
       "    .dataframe thead th {\n",
       "        text-align: right;\n",
       "    }\n",
       "</style>\n",
       "<table border=\"1\" class=\"dataframe\">\n",
       "  <thead>\n",
       "    <tr style=\"text-align: right;\">\n",
       "      <th></th>\n",
       "      <th>AnnualCrop</th>\n",
       "      <th>Forest</th>\n",
       "      <th>HerbaceousVegetation</th>\n",
       "      <th>Highway</th>\n",
       "      <th>Industrial</th>\n",
       "      <th>Pasture</th>\n",
       "      <th>PermanentCrop</th>\n",
       "      <th>Residential</th>\n",
       "      <th>River</th>\n",
       "      <th>SeaLake</th>\n",
       "    </tr>\n",
       "  </thead>\n",
       "  <tbody>\n",
       "    <tr>\n",
       "      <th>AnnualCrop</th>\n",
       "      <td>0.53</td>\n",
       "      <td>0.01</td>\n",
       "      <td>0.12</td>\n",
       "      <td>0.06</td>\n",
       "      <td>0.00</td>\n",
       "      <td>0.02</td>\n",
       "      <td>0.25</td>\n",
       "      <td>0.01</td>\n",
       "      <td>0.00</td>\n",
       "      <td>0.00</td>\n",
       "    </tr>\n",
       "    <tr>\n",
       "      <th>Forest</th>\n",
       "      <td>0.00</td>\n",
       "      <td>0.97</td>\n",
       "      <td>0.01</td>\n",
       "      <td>0.00</td>\n",
       "      <td>0.00</td>\n",
       "      <td>0.01</td>\n",
       "      <td>0.01</td>\n",
       "      <td>0.00</td>\n",
       "      <td>0.00</td>\n",
       "      <td>0.00</td>\n",
       "    </tr>\n",
       "    <tr>\n",
       "      <th>HerbaceousVegetation</th>\n",
       "      <td>0.00</td>\n",
       "      <td>0.01</td>\n",
       "      <td>0.95</td>\n",
       "      <td>0.00</td>\n",
       "      <td>0.00</td>\n",
       "      <td>0.02</td>\n",
       "      <td>0.01</td>\n",
       "      <td>0.00</td>\n",
       "      <td>0.00</td>\n",
       "      <td>0.01</td>\n",
       "    </tr>\n",
       "    <tr>\n",
       "      <th>Highway</th>\n",
       "      <td>0.02</td>\n",
       "      <td>0.02</td>\n",
       "      <td>0.15</td>\n",
       "      <td>0.52</td>\n",
       "      <td>0.02</td>\n",
       "      <td>0.11</td>\n",
       "      <td>0.05</td>\n",
       "      <td>0.10</td>\n",
       "      <td>0.01</td>\n",
       "      <td>0.00</td>\n",
       "    </tr>\n",
       "    <tr>\n",
       "      <th>Industrial</th>\n",
       "      <td>0.00</td>\n",
       "      <td>0.00</td>\n",
       "      <td>0.01</td>\n",
       "      <td>0.01</td>\n",
       "      <td>0.90</td>\n",
       "      <td>0.00</td>\n",
       "      <td>0.00</td>\n",
       "      <td>0.06</td>\n",
       "      <td>0.01</td>\n",
       "      <td>0.00</td>\n",
       "    </tr>\n",
       "    <tr>\n",
       "      <th>Pasture</th>\n",
       "      <td>0.00</td>\n",
       "      <td>0.09</td>\n",
       "      <td>0.06</td>\n",
       "      <td>0.00</td>\n",
       "      <td>0.00</td>\n",
       "      <td>0.81</td>\n",
       "      <td>0.04</td>\n",
       "      <td>0.00</td>\n",
       "      <td>0.00</td>\n",
       "      <td>0.00</td>\n",
       "    </tr>\n",
       "    <tr>\n",
       "      <th>PermanentCrop</th>\n",
       "      <td>0.01</td>\n",
       "      <td>0.00</td>\n",
       "      <td>0.10</td>\n",
       "      <td>0.03</td>\n",
       "      <td>0.00</td>\n",
       "      <td>0.01</td>\n",
       "      <td>0.82</td>\n",
       "      <td>0.02</td>\n",
       "      <td>0.00</td>\n",
       "      <td>0.00</td>\n",
       "    </tr>\n",
       "    <tr>\n",
       "      <th>Residential</th>\n",
       "      <td>0.00</td>\n",
       "      <td>0.01</td>\n",
       "      <td>0.01</td>\n",
       "      <td>0.01</td>\n",
       "      <td>0.01</td>\n",
       "      <td>0.00</td>\n",
       "      <td>0.01</td>\n",
       "      <td>0.94</td>\n",
       "      <td>0.00</td>\n",
       "      <td>0.00</td>\n",
       "    </tr>\n",
       "    <tr>\n",
       "      <th>River</th>\n",
       "      <td>0.00</td>\n",
       "      <td>0.01</td>\n",
       "      <td>0.02</td>\n",
       "      <td>0.04</td>\n",
       "      <td>0.01</td>\n",
       "      <td>0.02</td>\n",
       "      <td>0.00</td>\n",
       "      <td>0.00</td>\n",
       "      <td>0.89</td>\n",
       "      <td>0.01</td>\n",
       "    </tr>\n",
       "    <tr>\n",
       "      <th>SeaLake</th>\n",
       "      <td>0.00</td>\n",
       "      <td>0.00</td>\n",
       "      <td>0.00</td>\n",
       "      <td>0.00</td>\n",
       "      <td>0.00</td>\n",
       "      <td>0.00</td>\n",
       "      <td>0.00</td>\n",
       "      <td>0.00</td>\n",
       "      <td>0.01</td>\n",
       "      <td>0.99</td>\n",
       "    </tr>\n",
       "  </tbody>\n",
       "</table>\n",
       "</div>"
      ],
      "text/plain": [
       "                      AnnualCrop  Forest  HerbaceousVegetation  Highway  \\\n",
       "AnnualCrop                  0.53    0.01                  0.12     0.06   \n",
       "Forest                      0.00    0.97                  0.01     0.00   \n",
       "HerbaceousVegetation        0.00    0.01                  0.95     0.00   \n",
       "Highway                     0.02    0.02                  0.15     0.52   \n",
       "Industrial                  0.00    0.00                  0.01     0.01   \n",
       "Pasture                     0.00    0.09                  0.06     0.00   \n",
       "PermanentCrop               0.01    0.00                  0.10     0.03   \n",
       "Residential                 0.00    0.01                  0.01     0.01   \n",
       "River                       0.00    0.01                  0.02     0.04   \n",
       "SeaLake                     0.00    0.00                  0.00     0.00   \n",
       "\n",
       "                      Industrial  Pasture  PermanentCrop  Residential  River  \\\n",
       "AnnualCrop                  0.00     0.02           0.25         0.01   0.00   \n",
       "Forest                      0.00     0.01           0.01         0.00   0.00   \n",
       "HerbaceousVegetation        0.00     0.02           0.01         0.00   0.00   \n",
       "Highway                     0.02     0.11           0.05         0.10   0.01   \n",
       "Industrial                  0.90     0.00           0.00         0.06   0.01   \n",
       "Pasture                     0.00     0.81           0.04         0.00   0.00   \n",
       "PermanentCrop               0.00     0.01           0.82         0.02   0.00   \n",
       "Residential                 0.01     0.00           0.01         0.94   0.00   \n",
       "River                       0.01     0.02           0.00         0.00   0.89   \n",
       "SeaLake                     0.00     0.00           0.00         0.00   0.01   \n",
       "\n",
       "                      SeaLake  \n",
       "AnnualCrop               0.00  \n",
       "Forest                   0.00  \n",
       "HerbaceousVegetation     0.01  \n",
       "Highway                  0.00  \n",
       "Industrial               0.00  \n",
       "Pasture                  0.00  \n",
       "PermanentCrop            0.00  \n",
       "Residential              0.00  \n",
       "River                    0.01  \n",
       "SeaLake                  0.99  "
      ]
     },
     "execution_count": 27,
     "metadata": {},
     "output_type": "execute_result"
    }
   ],
   "source": [
    "con_mat_df_norm = pd.DataFrame(matrix_norm,\n",
    "                          index  = label_str,\n",
    "                          columns= label_str)\n",
    "con_mat_df_norm"
   ]
  },
  {
   "cell_type": "markdown",
   "metadata": {},
   "source": [
    "<br>"
   ]
  },
  {
   "cell_type": "markdown",
   "metadata": {},
   "source": [
    "As a final step, you can visualize the `normalized confusion matrix` with the function `heatmap()` from the seaborn library."
   ]
  },
  {
   "cell_type": "code",
   "execution_count": 28,
   "metadata": {},
   "outputs": [
    {
     "data": {
      "image/png": "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\n",
      "text/plain": [
       "<Figure size 720x720 with 2 Axes>"
      ]
     },
     "metadata": {
      "needs_background": "light"
     },
     "output_type": "display_data"
    }
   ],
   "source": [
    "\n",
    "    \n",
    "plt.figure(figsize=(10, 10))\n",
    "sns.heatmap(con_mat_df_norm,\n",
    "            annot=True,\n",
    "            cmap=plt.cm.Blues)\n",
    "plt.tight_layout()\n",
    "plt.ylabel('True label')\n",
    "plt.xlabel('Predicted label')\n",
    "plt.show()"
   ]
  },
  {
   "cell_type": "markdown",
   "metadata": {},
   "source": [
    "<br>"
   ]
  },
  {
   "cell_type": "markdown",
   "metadata": {},
   "source": [
    "<br>"
   ]
  },
  {
   "cell_type": "markdown",
   "metadata": {},
   "source": [
    "<a href='https://www.futurelearn.com/courses/artificial-intelligence-for-earth-monitoring/1/steps/1280514' target='_blank'><< Back to FutureLearn</a><br>"
   ]
  },
  {
   "cell_type": "markdown",
   "metadata": {},
   "source": [
    "<hr>"
   ]
  },
  {
   "cell_type": "markdown",
   "metadata": {},
   "source": [
    "<img src='../../img/copernicus_logo.png' alt='Copernicus logo' align='left' width='20%'></img>"
   ]
  },
  {
   "cell_type": "markdown",
   "metadata": {},
   "source": [
    "Course developed for <a href='https://www.eumetsat.int/' target='_blank'> EUMETSAT</a>, <a href='https://www.ecmwf.int/' target='_blank'> ECMWF</a> and <a href='https://www.mercator-ocean.fr/en/' target='_blank'> Mercator Ocean International</a> in support of the <a href='https://www.copernicus.eu/en' target='_blank'> EU's Copernicus Programme</a> and the <a href='https://wekeo.eu/' target='_blank'> WEkEO platform</a>.\n"
   ]
  }
 ],
 "metadata": {
  "kernelspec": {
   "display_name": "machine-learning",
   "language": "python",
   "name": "machine-learning"
  },
  "language_info": {
   "codemirror_mode": {
    "name": "ipython",
    "version": 3
   },
   "file_extension": ".py",
   "mimetype": "text/x-python",
   "name": "python",
   "nbconvert_exporter": "python",
   "pygments_lexer": "ipython3",
   "version": "3.8.10"
  },
  "title": "Tile-based classification using Sentinel-2 L1C and EuroSAT data - Training",
  "description": "This notebook is the second notebook of the tile-based classification with EuroSAT data workflow and guides you through the inference process.",
  "author": "Nicolo Taggio",
  "image": "./img/img_01.png",
  "services": {
       "wekeo": {
            "git": {
                "link": "https://github.com/wekeo/ai4EM_MOOC/blob/main/3_land/3B_tile-based_classification_with_EuroSAT_data/3B_tile-based_classification_with_EuroSAT_data_inference.ipynb",
                "service_contact": "support@wekeo.eu",
                "service_provider": "WEKEO"},
            "jupyter": {
                "link": "https://jupyterhub-wekeo.apps.eumetsat.dpi.wekeo.eu/hub/user-redirect/lab/tree/public/ML/3_land/3B_tile-based_classification_with_EuroSAT_data/3B_tile-based_classification_with_EuroSAT_data_inference.ipynb",
                "service_contact": "support@wekeo.eu",
                "service_provider": "WEKEO"}
       }
 },
"tags": {
    "domain": "Machine Learning",
    "subtheme" "Land Cover",
    "platform": "Sentinel-2",
    "sensor": "MSI",
    "tags": ["Top-of-atmosphere radiance", "EUROSAT", "CNN"]
  }
 },
 "nbformat": 4,
 "nbformat_minor": 4
}
