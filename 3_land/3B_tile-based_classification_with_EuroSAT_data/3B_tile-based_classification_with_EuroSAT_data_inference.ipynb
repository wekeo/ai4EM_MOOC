{
 "cells": [
  {
   "cell_type": "markdown",
   "metadata": {},
   "source": [
    "<center><img src='../../img/ai4eo_logos.jpg' alt='Logos AI4EO MOOC' width='80%'></img></center>"
   ]
  },
  {
   "cell_type": "markdown",
   "metadata": {},
   "source": [
    "<hr>"
   ]
  },
  {
   "cell_type": "markdown",
   "metadata": {},
   "source": [
    "<br>"
   ]
  },
  {
   "cell_type": "markdown",
   "metadata": {},
   "source": [
    "<a href='https://www.futurelearn.com/courses/artificial-intelligence-for-earth-monitoring/1/steps/1313384' target='_blank'><< Back to FutureLearn</a><br>"
   ]
  },
  {
   "cell_type": "markdown",
   "metadata": {},
   "source": [
    "# Tile-based classification using Sentinel-2 L1C and EuroSAT data - Inference"
   ]
  },
  {
   "cell_type": "markdown",
   "metadata": {},
   "source": [
    "<i>by Nicolò Taggio, Planetek Italia S.r.l., Bari, Italy</i>"
   ]
  },
  {
   "cell_type": "markdown",
   "metadata": {},
   "source": [
    "<hr>"
   ]
  },
  {
   "cell_type": "markdown",
   "metadata": {},
   "source": [
    "## Watch the video tutorial"
   ]
  },
  {
   "cell_type": "code",
   "execution_count": 1,
   "metadata": {
    "tags": []
   },
   "outputs": [
    {
     "data": {
      "text/html": [
       "<div align=\"center\"><iframe src=\"https://player.vimeo.com/video/636104150?h=ae18192afe\" width=\"640\" height=\"360\" frameborder=\"0\" allow=\"autoplay; fullscreen; picture-in-picture\" allowfullscreen align=\"middle\"></iframe></div>"
      ],
      "text/plain": [
       "<IPython.core.display.HTML object>"
      ]
     },
     "execution_count": 1,
     "metadata": {},
     "output_type": "execute_result"
    }
   ],
   "source": [
    "from IPython.display import HTML\n",
    "HTML('<div align=\"center\"><iframe src=\"https://player.vimeo.com/video/636104150?h=ae18192afe\" width=\"640\" height=\"360\" frameborder=\"0\" allow=\"autoplay; fullscreen; picture-in-picture\" allowfullscreen align=\"middle\"></iframe></div>')     "
   ]
  },
  {
   "cell_type": "markdown",
   "metadata": {},
   "source": [
    "<br>"
   ]
  },
  {
   "cell_type": "markdown",
   "metadata": {},
   "source": [
    "<hr>"
   ]
  },
  {
   "cell_type": "markdown",
   "metadata": {},
   "source": [
    "## Introduction"
   ]
  },
  {
   "cell_type": "markdown",
   "metadata": {},
   "source": [
    "This notebook is the second notebook of the `tile-based classification with EuroSAT data` workflow and guides you through the process of `inference`. `Inference` is the process where the learned capabilities of a pre-trained model are put into practise and are applied to a Sentinel-2 Level-1C scene. \n",
    "\n",
    "The notebook [3B_tile-based_classification_with_EuroSAT_data_training](./3B_tile-based_classification_with_EuroSAT_data_training.ipynb) is the first step and guides you through training a convolutional neural network based on EuroSAT benchmark data for land use / land cover classification.\n",
    "\n",
    "This notebook guides you through the preparation of a Sentinel-2 Level-1C tile for the inference process, loads the pre-trained model and executes the inference process, which 'infers' land cover classes based on the pre-trained model and the Sentinel-2 L1C tile as input. "
   ]
  },
  {
   "cell_type": "markdown",
   "metadata": {},
   "source": [
    "## Data"
   ]
  },
  {
   "cell_type": "markdown",
   "metadata": {},
   "source": [
    "The inference process makes use of the following data:\n",
    "* a `Sentinel-2 Level-1C file`, which is available under the folder [./S2_Tile_based_classification/01_input_data/S2_tile_4_inference](./S2_Tile_based_classification/01_input_data/S2_tile_4_inference/). The scene shows a coastal part over Italy on 31 March 2021. The scence is used as input data for the pretrained model in order to 'infer' land use / land cover classes.\n",
    "* a `pretrained model`, a `convolutional neural network` which has been trained based on EuroSAT data, a benchmark dataset for land use / land cover classifications."
   ]
  },
  {
   "cell_type": "markdown",
   "metadata": {},
   "source": [
    "## Further resources"
   ]
  },
  {
   "cell_type": "markdown",
   "metadata": {},
   "source": [
    "* [3B - Tile-based classification with EuroSAT data - Training](./3B_tile-based_classification_with_EuroSAT_data_training.ipynb)\n",
    "* <a href='https://arxiv.org/abs/1709.00029' target='_blank'>EuroSAT: A Novel Dataset and Deep Learning Benchmark for Land Use and Land Cover Classification</a>\n",
    "* <a href='https://github.com/phelber/eurosat' target='_blank'>EuroSAT data</a>"
   ]
  },
  {
   "cell_type": "markdown",
   "metadata": {},
   "source": [
    "<hr>"
   ]
  },
  {
   "cell_type": "markdown",
   "metadata": {},
   "source": [
    "## Notebook outline\n",
    "* [1 - Load a Sentinel-2 Level-1C tile](#load_s2l1_inference)\n",
    "* [2 - Resample all bands of a Sentinel-2 Level-1C tile to 10m spatial resolution](#resample_inference)\n",
    "* [3 - Reorder the bands according to the order of the pretrained model](#reorder_inference)\n",
    "* [4 - Load the pretrained sequential convolutional neural network based on EuroSAT data](#load_model_inference)\n",
    "* [5 - Divide the Sentinel-2 L1C tile into 64x64 windows](#windows_inference)\n",
    "* [6 - Inference of land use classes](#inference_step)\n",
    "* [7 - Visualize the final classified image](#visualize_inference)"
   ]
  },
  {
   "cell_type": "markdown",
   "metadata": {},
   "source": [
    "<hr>"
   ]
  },
  {
   "cell_type": "markdown",
   "metadata": {},
   "source": [
    "#### Import libraries"
   ]
  },
  {
   "cell_type": "code",
   "execution_count": 2,
   "metadata": {},
   "outputs": [],
   "source": [
    "## BEGIN S3FS IMPORT SNIPPET ##\n",
    "import os, sys\n",
    "s3_home =  os.getcwd()\n",
    "try: sys.path.remove(s3_home) # REMOVE THE S3 ROOT FROM THE $PATH\n",
    "except Exception: pass\n",
    "\n",
    "current_dir = os.getcwd()\n",
    "\n",
    "os.chdir('/home/jovyan') # TEMPORARILY MOVE TO ANOTHER DIRECTORY\n",
    "\n",
    "# BEGIN IMPORTS #\n",
    "import tensorflow as tf\n",
    "from osgeo import gdal_array, osr, gdal\n",
    "import glob\n",
    "import numpy as np\n",
    "from scipy import ndimage\n",
    "import matplotlib.pyplot as plt\n",
    "import matplotlib.colors\n",
    "\n",
    "import warnings\n",
    "warnings.filterwarnings(\"ignore\")\n",
    "# END IMPORTS #\n",
    "\n",
    "os.chdir(current_dir) # GO BACK TO YOUR PREVIOUS DIRECTORY\n",
    "\n",
    "sys.path.append(s3_home) # RESTORE THE S3 ROOT IN THE $PATH\n",
    "\n",
    "## END S3FS IMPORT SNIPPET ##"
   ]
  },
  {
   "cell_type": "markdown",
   "metadata": {},
   "source": [
    "#### Load helper functions"
   ]
  },
  {
   "cell_type": "code",
   "execution_count": 3,
   "metadata": {},
   "outputs": [],
   "source": [
    "%run ./3B_tile-based_classification_with_EuroSAT_data_functions.ipynb"
   ]
  },
  {
   "cell_type": "markdown",
   "metadata": {},
   "source": [
    "<hr>"
   ]
  },
  {
   "cell_type": "markdown",
   "metadata": {},
   "source": [
    "<br>"
   ]
  },
  {
   "cell_type": "markdown",
   "metadata": {},
   "source": [
    "## <a id='load_s2l1_inference'></a>1. Load a Sentinel-2 Level-1C tile"
   ]
  },
  {
   "cell_type": "markdown",
   "metadata": {},
   "source": [
    "The first step is to load the input data for the inference process. The input data is a Sentinel-2 Level-1C tile which shall be classified with the help of the pre-trained model."
   ]
  },
  {
   "cell_type": "markdown",
   "metadata": {},
   "source": [
    "Let us define a Python dictionary which holds information about where the Sentinel-2 Level-1C data is stored. Define `main_path`, `sentinel2_safe_name` and `sentinel2_safe_path`."
   ]
  },
  {
   "cell_type": "code",
   "execution_count": 4,
   "metadata": {},
   "outputs": [],
   "source": [
    "data_input = {}\n",
    "data_input['main_path'] ='./S2_Tile_based_classification/'\n",
    "\n",
    "data_input['sentinel2_safe_name'] ='S2A_MSIL1C_20210331T100021_N0300_R122_T33TTG_20210331T113321.SAFE/'\n",
    "data_input['sentinel2_safe_path'] = data_input['main_path']+'01_Input_data/S2_tile_4_inference/' + data_input['sentinel2_safe_name']"
   ]
  },
  {
   "cell_type": "markdown",
   "metadata": {},
   "source": [
    "<br>"
   ]
  },
  {
   "cell_type": "markdown",
   "metadata": {},
   "source": [
    "The next step makes use of the function [from_folder_to_stack()](./3B_tile-based_classification_with_EuroSAT_data_functions.ipynb#from_folder_to_stack). The functions transforms the Sentinel-2 Level-1C file which is disseminated in the `.SAFE` format into three different arrays, each combining the bands with the same spatial resolution. Sentinel-2 samples 13 spectral bands, which have three different resolutions: `10m, 20m and 60m`.\n",
    "\n",
    "The result of the function are three stacked arrays:\n",
    "* `stack_10m`: stack combining bands with 10m spatial resolution `(B02, B03, B04, B08)`\n",
    "* `stack_20m`: stack combining bands with 20m spatial resolution `(B05, B06, B07, B11, B12, B8A)`\n",
    "* `stack_60m`: stack combining bands with 60m spatial resolution `(B01, B09, B10)`\n",
    "\n",
    "**Note:** you can open the doc string of the function with `?from_folder_to_stack`, which informs you about the aim of the function as well as input and output arguments."
   ]
  },
  {
   "cell_type": "code",
   "execution_count": 5,
   "metadata": {},
   "outputs": [
    {
     "name": "stdout",
     "output_type": "stream",
     "text": [
      "[AI4EO_MOOC]_log: Loading .jp2 images in ./S2_Tile_based_classification/01_Input_data/S2_tile_4_inference/S2A_MSIL1C_20210331T100021_N0300_R122_T33TTG_20210331T113321.SAFE/GRANULE/L1C_T33TTG_A030149_20210331T100404/IMG_DATA/\n",
      "[AI4EO_MOOC]_log: Reading .jp2 files in ./S2_Tile_based_classification/01_Input_data/S2_tile_4_inference/S2A_MSIL1C_20210331T100021_N0300_R122_T33TTG_20210331T113321.SAFE/GRANULE/L1C_T33TTG_A030149_20210331T100404/IMG_DATA/\n",
      "[AI4EO_MOOC]_log: Using .jp2 image: T33TTG_20210331T100021_B01.jp2\n",
      "[AI4EO_MOOC]_log: Using .jp2 image: T33TTG_20210331T100021_B02.jp2\n",
      "[AI4EO_MOOC]_log: Using .jp2 image: T33TTG_20210331T100021_B03.jp2\n",
      "[AI4EO_MOOC]_log: Using .jp2 image: T33TTG_20210331T100021_B04.jp2\n",
      "[AI4EO_MOOC]_log: Using .jp2 image: T33TTG_20210331T100021_B05.jp2\n",
      "[AI4EO_MOOC]_log: Using .jp2 image: T33TTG_20210331T100021_B06.jp2\n",
      "[AI4EO_MOOC]_log: Using .jp2 image: T33TTG_20210331T100021_B07.jp2\n",
      "[AI4EO_MOOC]_log: Using .jp2 image: T33TTG_20210331T100021_B08.jp2\n",
      "[AI4EO_MOOC]_log: Using .jp2 image: T33TTG_20210331T100021_B09.jp2\n",
      "[AI4EO_MOOC]_log: Using .jp2 image: T33TTG_20210331T100021_B10.jp2\n",
      "[AI4EO_MOOC]_log: Using .jp2 image: T33TTG_20210331T100021_B11.jp2\n",
      "[AI4EO_MOOC]_log: Using .jp2 image: T33TTG_20210331T100021_B12.jp2\n",
      "[AI4EO_MOOC]_log: Using .jp2 image: T33TTG_20210331T100021_B8A.jp2\n",
      "[AI4EO_MOOC]_log: Sorting stack 10m...\n",
      "[AI4EO_MOOC]_log: sorted list: ['02', '03', '04', '08']\n",
      "[AI4EO_MOOC]_log: bands: [0 1 2 3]\n",
      "[AI4EO_MOOC]_log: Sorting stack 20m...\n",
      "[AI4EO_MOOC]_log: sorted list: ['05', '06', '07', '11', '12', '8A']\n",
      "[AI4EO_MOOC]_log: bands: [0 1 2 3 4 5]\n",
      "[AI4EO_MOOC]_log: Sorting stack 60m...\n",
      "[AI4EO_MOOC]_log: sorted list: ['01', '09', '10']\n",
      "[AI4EO_MOOC]_log: bands: [0 1 2]\n"
     ]
    }
   ],
   "source": [
    "safe_path = data_input['sentinel2_safe_path']\n",
    "stack_10m, stack_20m, stack_60m = from_folder_to_stack(safe_path)"
   ]
  },
  {
   "cell_type": "markdown",
   "metadata": {},
   "source": [
    "<br>"
   ]
  },
  {
   "cell_type": "markdown",
   "metadata": {},
   "source": [
    "If you inspect the dimensions of the three stacked arrays, you see that the stack combining bands with 10m resolution consists of 4 bands, the one combining bands with 20m resolution consists of 6 bands and the one combining bands with 60m resolution consists of 3 bands."
   ]
  },
  {
   "cell_type": "code",
   "execution_count": 6,
   "metadata": {},
   "outputs": [
    {
     "name": "stdout",
     "output_type": "stream",
     "text": [
      "(10980, 10980, 4)\n",
      "(5490, 5490, 6)\n",
      "(1830, 1830, 3)\n"
     ]
    }
   ],
   "source": [
    "print(stack_10m.shape)\n",
    "print(stack_20m.shape)\n",
    "print(stack_60m.shape)"
   ]
  },
  {
   "cell_type": "markdown",
   "metadata": {},
   "source": [
    "<br>"
   ]
  },
  {
   "cell_type": "markdown",
   "metadata": {},
   "source": [
    "## <a id='resample_inference'></a>2. Resample all bands of a Sentinel-2 Level-1C tile to 10m spatial resolution"
   ]
  },
  {
   "cell_type": "markdown",
   "metadata": {},
   "source": [
    "The next step is to resample the arrays containing bands with 20m and 60m resolution to a 10m spatial resolution. You can use the function [resample_3d()](./3B_tile-based_classification_with_EuroSAT_data_functions.ipynb#resample_3d) to do this. The function takes the following keyword arguments:\n",
    "* `stack`: array to be resampled to 10m\n",
    "* `row10m`: number of rows of the 10m resolution array\n",
    "* `col10m`: number of columns of the 10m resolution array\n",
    "* `rate`: to which rate the input stack shall be resampled\n",
    "\n",
    "You have to apply the function to both array stacks, `stack_20m` and `stack_60m`. The result is that all three array stacks have the same spatial resolution (10m)."
   ]
  },
  {
   "cell_type": "code",
   "execution_count": 7,
   "metadata": {},
   "outputs": [
    {
     "name": "stdout",
     "output_type": "stream",
     "text": [
      "[AI4EO_MOOC]_log: Resampling stack with 20 m pixel size...\n",
      "[AI4EO_MOOC]_log: Array shape (5490,5490,6)\n",
      "[AI4EO_MOOC]_log: Resize array bands from (5490,5490,6) to (10980,10980,6)\n",
      "[AI4EO_MOOC]_log: Resampling stack with 60 m pixel size...\n",
      "[AI4EO_MOOC]_log: Array shape (1830,1830,3)\n",
      "[AI4EO_MOOC]_log: Resize array bands from (1830,1830,3) to (10980,10980,3)\n",
      "(10980, 10980, 6)\n",
      "(10980, 10980, 3)\n"
     ]
    }
   ],
   "source": [
    "n_row, n_col, b10 = stack_10m.shape\n",
    "\n",
    "print('[AI4EO_MOOC]_log: Resampling stack with 20 m pixel size...')\n",
    "stack_20mTo10m = resample_3d(stack = stack_20m,\n",
    "                             row10m = n_row,\n",
    "                             col10m = n_col,\n",
    "                             rate = 2)\n",
    "\n",
    "print('[AI4EO_MOOC]_log: Resampling stack with 60 m pixel size...')\n",
    "stack_60mTo10m = resample_3d(stack = stack_60m,\n",
    "                             row10m = n_row,\n",
    "                             col10m = n_col,\n",
    "                             rate= 6)\n",
    "\n",
    "print(stack_20mTo10m.shape)\n",
    "print(stack_60mTo10m.shape)\n"
   ]
  },
  {
   "cell_type": "markdown",
   "metadata": {},
   "source": [
    "<br>"
   ]
  },
  {
   "cell_type": "markdown",
   "metadata": {},
   "source": [
    "## <a id='reorder_inference'></a>3. Reorder the bands according to the order of the pretrained model"
   ]
  },
  {
   "cell_type": "markdown",
   "metadata": {},
   "source": [
    "The three array stacks have now the same spatial resolution. In a next step, you can concatenate them with the numpy function `concatenate`. You want to contatenate them on the band dimensions (axis=2). The result is one single array with a spatial resolution of 10m and 13 bands."
   ]
  },
  {
   "cell_type": "code",
   "execution_count": 8,
   "metadata": {},
   "outputs": [
    {
     "name": "stdout",
     "output_type": "stream",
     "text": [
      "[AI4EO_MOOC]_log: Creating multistack with 10-20-60 m pixel size\n"
     ]
    },
    {
     "data": {
      "text/plain": [
       "(10980, 10980, 13)"
      ]
     },
     "execution_count": 8,
     "metadata": {},
     "output_type": "execute_result"
    }
   ],
   "source": [
    "print('[AI4EO_MOOC]_log: Creating multistack with 10-20-60 m pixel size')\n",
    "\n",
    "total_stack=np.concatenate((stack_10m, stack_20mTo10m, stack_60mTo10m), \n",
    "                           axis=2)\n",
    "\n",
    "total_stack.shape"
   ]
  },
  {
   "cell_type": "markdown",
   "metadata": {},
   "source": [
    "<br>"
   ]
  },
  {
   "cell_type": "markdown",
   "metadata": {},
   "source": [
    "You can now plot the reflectance for each band for one pixel with matplotlib's `plot()` function."
   ]
  },
  {
   "cell_type": "code",
   "execution_count": 9,
   "metadata": {},
   "outputs": [
    {
     "data": {
      "text/plain": [
       "[<matplotlib.lines.Line2D at 0x7f94a94d3310>]"
      ]
     },
     "execution_count": 9,
     "metadata": {},
     "output_type": "execute_result"
    },
    {
     "data": {
      "image/png": "[encoded data removed]",
      "text/plain": [
       "<Figure size 432x288 with 1 Axes>"
      ]
     },
     "metadata": {
      "needs_background": "light"
     },
     "output_type": "display_data"
    }
   ],
   "source": [
    "plt.ylabel(\"Reflectance\")\n",
    "plt.xlabel('Band')\n",
    "plt.plot(total_stack[200,200,:],'-o')"
   ]
  },
  {
   "cell_type": "markdown",
   "metadata": {},
   "source": [
    "<br>"
   ]
  },
  {
   "cell_type": "markdown",
   "metadata": {},
   "source": [
    "The next step is to arrange the Sentinel-2 bands and bring them to the correct position for the pre-trained model. The function [sentinel2_format](./3B_tile-based_classification_with_EuroSAT_data_functions.ipynb#sentine2_format) helps you to bring the bands into the correct order for the model. You want to arrange the bands into the following order:\n",
    "* `Band 1 – Coastal aerosol` <-- `S2L1 Band 10`\n",
    "* `Band 2 – Blue` <-- `S2L1 Band 0`\n",
    "* `Band 3 – Green` <-- `S2L1 Band 1`\n",
    "* `Band 4 – Red` <-- `S2L1 Band 2`\n",
    "* `Band 5 – Vegetation red edge` <-- `S2L1 Band 4`\n",
    "* `Band 6 – Vegetation red edge` <-- `S2L1 Band 5`\n",
    "* `Band 7 – Vegetation red edge` <-- `S2L1 Band 6`\n",
    "* `Band 8 – NIR` <-- `S2L1 Band 3`\n",
    "* `Band 8A – Narrow NIR` <-- `S2L1 Band 9`\n",
    "* `Band 9 – Water vapour` <-- `S2L1 Band 11`\n",
    "* `Band 10 – SWIR – Cirrus` <-- `S2L1 Band 12`\n",
    "* `Band 11 – SWIR` <-- `S2L1 Band 7`\n",
    "* `Band 12 – SWIR` <-- `S2L1 Band 8`\n",
    "\n"
   ]
  },
  {
   "cell_type": "code",
   "execution_count": 10,
   "metadata": {},
   "outputs": [
    {
     "name": "stdout",
     "output_type": "stream",
     "text": [
      "[AI4EO_MOOC]_log: Creating total stack with following bands list:\n",
      "[AI4EO_MOOC]_log: Band 1 – Coastal aerosol\n",
      "[AI4EO_MOOC]_log: Band 2 – Blue\n",
      "[AI4EO_MOOC]_log: Band 3 – Green\n",
      "[AI4EO_MOOC]_log: Band 4 – Red\n",
      "[AI4EO_MOOC]_log: Band 5 – Vegetation red edge\n",
      "[AI4EO_MOOC]_log: Band 6 – Vegetation red edge\n",
      "[AI4EO_MOOC]_log: Band 7 – Vegetation red edge\n",
      "[AI4EO_MOOC]_log: Band 8 – NIR\n",
      "[AI4EO_MOOC]_log: Band 8A – Narrow NIR\n",
      "[AI4EO_MOOC]_log: Band 9 – Water vapour\n",
      "[AI4EO_MOOC]_log: Band 10 – SWIR – Cirrus\n",
      "[AI4EO_MOOC]_log: Band 11 – SWIR\n",
      "[AI4EO_MOOC]_log: Band 12 – SWIR\n"
     ]
    }
   ],
   "source": [
    "s2_arr = sentinel2_format(total_stack)\n"
   ]
  },
  {
   "cell_type": "markdown",
   "metadata": {},
   "source": [
    "<br>"
   ]
  },
  {
   "cell_type": "markdown",
   "metadata": {},
   "source": [
    "Now, you can plot the reflectance for each of the bands for the same pixel as above and you can now easier identify it as a water pixel."
   ]
  },
  {
   "cell_type": "code",
   "execution_count": 11,
   "metadata": {},
   "outputs": [
    {
     "data": {
      "text/plain": [
       "[<matplotlib.lines.Line2D at 0x7f94a93bfc10>]"
      ]
     },
     "execution_count": 11,
     "metadata": {},
     "output_type": "execute_result"
    },
    {
     "data": {
      "image/png": "[encoded data removed]",
      "text/plain": [
       "<Figure size 432x288 with 1 Axes>"
      ]
     },
     "metadata": {
      "needs_background": "light"
     },
     "output_type": "display_data"
    }
   ],
   "source": [
    "plt.ylabel(\"Reflectance\")\n",
    "plt.xlabel('Band')\n",
    "plt.plot(s2_arr[200,200,:],'-o')"
   ]
  },
  {
   "cell_type": "markdown",
   "metadata": {},
   "source": [
    "<br>"
   ]
  },
  {
   "cell_type": "markdown",
   "metadata": {},
   "source": [
    "You can also plot the reflectances of another pixel and see higher reflectances over bands 6 to 8, which are the channels for vegetation."
   ]
  },
  {
   "cell_type": "code",
   "execution_count": 12,
   "metadata": {},
   "outputs": [
    {
     "data": {
      "text/plain": [
       "[<matplotlib.lines.Line2D at 0x7f94a93b29a0>]"
      ]
     },
     "execution_count": 12,
     "metadata": {},
     "output_type": "execute_result"
    },
    {
     "data": {
      "image/png": "[encoded data removed]",
      "text/plain": [
       "<Figure size 432x288 with 1 Axes>"
      ]
     },
     "metadata": {
      "needs_background": "light"
     },
     "output_type": "display_data"
    }
   ],
   "source": [
    "plt.ylabel(\"Reflectance\")\n",
    "plt.xlabel('Band')\n",
    "plt.plot(s2_arr[10000,10000,:],'-o')"
   ]
  },
  {
   "cell_type": "markdown",
   "metadata": {},
   "source": [
    "<br>"
   ]
  },
  {
   "cell_type": "markdown",
   "metadata": {},
   "source": [
    "## <a id='load_model_inference'></a>4. Load the pre-trained sequential convolutional neural network based on EuroSAT data"
   ]
  },
  {
   "cell_type": "markdown",
   "metadata": {},
   "source": [
    "Next, you can load the pre-trained model which has been trained in the notebook [3B_tile-based_classification_with_EuroSAT_data_training](./3B_tile-based_classification_with_EuroSAT_data_training.ipynb). The function `load_model()` from the class `keras.models` allows you to load a model in the Keras format `H5`. With `model.summary()` you can get tabular overview of the model architecture."
   ]
  },
  {
   "cell_type": "code",
   "execution_count": 13,
   "metadata": {},
   "outputs": [
    {
     "name": "stdout",
     "output_type": "stream",
     "text": [
      "Model: \"sequential_1\"\n",
      "_________________________________________________________________\n",
      "Layer (type)                 Output Shape              Param #   \n",
      "=================================================================\n",
      "conv2d_1 (Conv2D)            (None, 64, 64, 32)        3776      \n",
      "_________________________________________________________________\n",
      "activation_1 (Activation)    (None, 64, 64, 32)        0         \n",
      "_________________________________________________________________\n",
      "conv2d_2 (Conv2D)            (None, 62, 62, 32)        9248      \n",
      "_________________________________________________________________\n",
      "activation_2 (Activation)    (None, 62, 62, 32)        0         \n",
      "_________________________________________________________________\n",
      "max_pooling2d_1 (MaxPooling2 (None, 31, 31, 32)        0         \n",
      "_________________________________________________________________\n",
      "dropout_1 (Dropout)          (None, 31, 31, 32)        0         \n",
      "_________________________________________________________________\n",
      "conv2d_3 (Conv2D)            (None, 31, 31, 64)        18496     \n",
      "_________________________________________________________________\n",
      "activation_3 (Activation)    (None, 31, 31, 64)        0         \n",
      "_________________________________________________________________\n",
      "conv2d_4 (Conv2D)            (None, 29, 29, 64)        36928     \n",
      "_________________________________________________________________\n",
      "activation_4 (Activation)    (None, 29, 29, 64)        0         \n",
      "_________________________________________________________________\n",
      "max_pooling2d_2 (MaxPooling2 (None, 14, 14, 64)        0         \n",
      "_________________________________________________________________\n",
      "dropout_2 (Dropout)          (None, 14, 14, 64)        0         \n",
      "_________________________________________________________________\n",
      "flatten_1 (Flatten)          (None, 12544)             0         \n",
      "_________________________________________________________________\n",
      "dense_1 (Dense)              (None, 512)               6423040   \n",
      "_________________________________________________________________\n",
      "activation_5 (Activation)    (None, 512)               0         \n",
      "_________________________________________________________________\n",
      "dropout_3 (Dropout)          (None, 512)               0         \n",
      "_________________________________________________________________\n",
      "dense_2 (Dense)              (None, 10)                5130      \n",
      "_________________________________________________________________\n",
      "activation_6 (Activation)    (None, 10)                0         \n",
      "=================================================================\n",
      "Total params: 6,496,618\n",
      "Trainable params: 6,496,618\n",
      "Non-trainable params: 0\n",
      "_________________________________________________________________\n"
     ]
    }
   ],
   "source": [
    "data_input['pre_trained_model_name'] = 'keras_sentinel2_classification_trained_model_e50_9190.h5'\n",
    "data_input['pre_trained_model_path'] = data_input['main_path']+'02_pretrained_model/'\n",
    "\n",
    "model = tf.keras.models.load_model(data_input['pre_trained_model_path'] + data_input['pre_trained_model_name'])\n",
    "model.summary()"
   ]
  },
  {
   "cell_type": "markdown",
   "metadata": {},
   "source": [
    "<br>"
   ]
  },
  {
   "cell_type": "markdown",
   "metadata": {},
   "source": [
    "## <a id='windows_inference'></a>5. Divide the Sentinel-2 L1C tile into 64x64 windows"
   ]
  },
  {
   "cell_type": "markdown",
   "metadata": {},
   "source": [
    "Since the Convolutional Neural Network has been trained on the EuroSAT benchmark data, which have a dimension of `[13, 64, 64]`, the trained model can only predict on `64x64 pixel` subsets (so-called chips).\n",
    "\n",
    "You can apply the function [sliding()](./3B_tile-based_classification_with_EuroSAT_data_functions.ipynb#sliding), which divides the Sentinel-2 image with a dimension of `10980 x 10980 pixels` into multiple subsets with the size of `64 x 64 pixels`."
   ]
  },
  {
   "cell_type": "code",
   "execution_count": 14,
   "metadata": {},
   "outputs": [
    {
     "name": "stdout",
     "output_type": "stream",
     "text": [
      "[AI4EO_MOOC]_log: Divide all image into windows for inference step\n"
     ]
    }
   ],
   "source": [
    "print('[AI4EO_MOOC]_log: Divide all image into windows for inference step')\n",
    "\n",
    "target_shape = (s2_arr.shape[0], s2_arr.shape[1])\n",
    "windows = sliding(target_shape, 64, fixed=True)\n"
   ]
  },
  {
   "cell_type": "markdown",
   "metadata": {},
   "source": [
    "<br>"
   ]
  },
  {
   "cell_type": "markdown",
   "metadata": {},
   "source": [
    "## <a id='inference_step'></a>6. Inference of land use classes"
   ]
  },
  {
   "cell_type": "markdown",
   "metadata": {},
   "source": [
    "The next step is the inference process, which applies the loaded model and predicts the probabilites of each of the ten land use classes for each pixel. First, let us define some variables that help us to specify the inference process. Let us define `batch_size=10`, which specifies the number of parallel computations and which also reduces the number of iterations during the inference process by a factor of 10."
   ]
  },
  {
   "cell_type": "code",
   "execution_count": 15,
   "metadata": {},
   "outputs": [],
   "source": [
    "windows_ = iter(windows)\n",
    "windows_class = iter(windows)\n",
    "\n",
    "batch_size = 10\n",
    "total_chips = len(windows)\n",
    "num_steps = int(total_chips / batch_size)"
   ]
  },
  {
   "cell_type": "markdown",
   "metadata": {},
   "source": [
    "<br>"
   ]
  },
  {
   "cell_type": "markdown",
   "metadata": {},
   "source": [
    "The next step goes through each `64 x 64 pixel` window (chip), retrieves the channel information of the Sentinel-2 image and predicts the land cover classes for each chip with the function `model.predict()`.\n",
    "The prediction result returns the probability of each land use class for each pixel. With the numpy function `argmax()`, you can select the class with the highest predicted probability.\n",
    "\n",
    "The last step is to gradually build up the final image `img_classes` with the predicted land use classes and a dimension of `(10980, 10980)`, based on the `64 x 64 pixel` windows."
   ]
  },
  {
   "cell_type": "code",
   "execution_count": 16,
   "metadata": {},
   "outputs": [
    {
     "name": "stdout",
     "output_type": "stream",
     "text": [
      "[AI4EO_MOOC]_log: Inference step...\n",
      "2924/2924 [==============================] - 136s 46ms/step\n"
     ]
    }
   ],
   "source": [
    "print('[AI4EO_MOOC]_log: Inference step...')\n",
    "\n",
    "img_classes = np.zeros((total_stack.shape[0], total_stack.shape[1]), dtype=np.uint8)\n",
    "\n",
    "\n",
    "predictions = []\n",
    "progbar = tf.keras.utils.Progbar(num_steps)\n",
    "\n",
    "for b in range(num_steps):\n",
    "    chips = np.empty([batch_size, 64, 64, 13])\n",
    "    for k in range(batch_size):\n",
    "        ymin, xmin, xmax, ymax = next(windows_)\n",
    "        chips[k] = s2_arr[xmin:xmin+xmax, ymin:ymin+ymax, :]        \n",
    "    \n",
    "    preds = model.predict(chips)\n",
    "    predictions.append(np.argmax(preds, axis=-1))\n",
    "    for i in range(0, batch_size):\n",
    "        ymin_cl, xmin_cl, xmax_cl, ymax_cl = next(windows_class)\n",
    "        img_classes[xmin_cl:xmin_cl+xmax_cl, ymin_cl:ymin_cl+ymax_cl] = predictions[b][i]\n",
    "    progbar.update(b + 1)"
   ]
  },
  {
   "cell_type": "markdown",
   "metadata": {},
   "source": [
    "<br>"
   ]
  },
  {
   "cell_type": "markdown",
   "metadata": {},
   "source": [
    "## <a id='visualize_inference'></a>7. Visualize the final classified image"
   ]
  },
  {
   "cell_type": "markdown",
   "metadata": {},
   "source": [
    "The last step is to visualize the classified image after the inference step. You can use matplotlib's function `imshow()` to visualize the predicted array `img_classes`. For readability, you can define class labels (`label`) and a customized color scale."
   ]
  },
  {
   "cell_type": "code",
   "execution_count": 17,
   "metadata": {},
   "outputs": [
    {
     "data": {
      "image/png": "[encoded data removed]",
      "text/plain": [
       "<Figure size 720x720 with 2 Axes>"
      ]
     },
     "metadata": {
      "needs_background": "light"
     },
     "output_type": "display_data"
    }
   ],
   "source": [
    "label=['AnnualCrop','Forest','HerbaceousVegetation','Highway','Industrial',\n",
    "       'Pasture','PermanentCrop','Residential','River','SeaLake']\n",
    "\n",
    "cmap = matplotlib.colors.LinearSegmentedColormap.from_list(\n",
    "    \"\", \n",
    "    [\"linen\",\"darkgreen\",\"lime\",\"grey\",\"k\",\n",
    "     \"olive\",\"darkgoldenrod\",\"lightgrey\",\"azure\",\"lightblue\"])\n",
    "\n",
    "plt.figure(figsize=(10,10))\n",
    "plt.imshow(img_classes, cmap=cmap)\n",
    "cbar=plt.colorbar()\n",
    "cbar.ax.set_yticklabels(label)\n",
    "plt.show()"
   ]
  },
  {
   "cell_type": "markdown",
   "metadata": {},
   "source": [
    "<br>"
   ]
  },
  {
   "cell_type": "markdown",
   "metadata": {},
   "source": [
    "<br>"
   ]
  },
  {
   "cell_type": "markdown",
   "metadata": {},
   "source": [
    "<a href='https://www.futurelearn.com/courses/artificial-intelligence-for-earth-monitoring/1/steps/1313384' target='_blank'><< Back to FutureLearn</a><br>"
   ]
  },
  {
   "cell_type": "markdown",
   "metadata": {},
   "source": [
    "<hr>"
   ]
  },
  {
   "cell_type": "markdown",
   "metadata": {},
   "source": [
    "<img src='../../img/copernicus_logo.png' alt='Copernicus logo' align='left' width='20%'></img>"
   ]
  },
  {
   "cell_type": "markdown",
   "metadata": {},
   "source": [
    "Course developed for <a href='https://www.eumetsat.int/' target='_blank'> EUMETSAT</a>, <a href='https://www.ecmwf.int/' target='_blank'> ECMWF</a> and <a href='https://www.mercator-ocean.fr/en/' target='_blank'> Mercator Ocean International</a> in support of the <a href='https://www.copernicus.eu/en' target='_blank'> EU's Copernicus Programme</a> and the <a href='https://wekeo.eu/' target='_blank'> WEkEO platform</a>.\n"
   ]
  }
 ],
 "metadata": {
  "kernelspec": {
   "display_name": "machine-learning",
   "language": "python",
   "name": "machine-learning"
  },
  "language_info": {
   "codemirror_mode": {
    "name": "ipython",
    "version": 3
   },
   "file_extension": ".py",
   "mimetype": "text/x-python",
   "name": "python",
   "nbconvert_exporter": "python",
   "pygments_lexer": "ipython3",
   "version": "3.8.10"
  },
  "title": "Tile-based classification using Sentinel-2 L1C and EuroSAT data - Inference",
  "description": "This notebook shows you how you can train a Convolutional Neural Network (CNN) with Keras based on the benchmark dataset EuroSAT.",
  "author": "Nicolo Taggio",
  "image": "./img/img_02.png",
  "services": {
        "wekeo": {
             "git": {
                "link": "https://github.com/wekeo/ai4EM_MOOC/blob/main/3_land/3B_tile-based_classification_with_EuroSAT_data/3B_tile-based_classification_with_EuroSAT_data_training.ipynb",
                "service_contact": "support@wekeo.eu",
                "service_provider": "WEKEO"},
             "jupyter": {
                "link": "https://jupyterhub-wekeo.apps.eumetsat.dpi.wekeo.eu/hub/user-redirect/lab/tree/public/ML/3_land/3B_tile-based_classification_with_EuroSAT_data/3B_tile-based_classification_with_EuroSAT_data_training.ipynb",
                "service_contact": "support@wekeo.eu",
                "service_provider": "WEKEO"}
        }
  },
 "tags": {
    "domain": "Machine Learning",
    "subtheme": "Land cover",
    "platform": "Sentinel-2",
    "sensor": "MSI",
    "tags": ["Top-of-atmosphere radiance", "EUROSAT"]
  }
 },
 "nbformat": 4,
 "nbformat_minor": 4
}
